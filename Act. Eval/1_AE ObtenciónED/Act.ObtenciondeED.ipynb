{
 "cells": [
  {
   "cell_type": "markdown",
   "metadata": {
    "id": "CIwHFD4AyfKe"
   },
   "source": [
    "Obtención de estadisticas descriptivas\n",
    "\n",
    "Integrantes: \n",
    "Pablo Enrique Martinez Sanchez A01706352\n",
    "Carlos Iñaki Román Martinez A01702712\n",
    "Jesus Dassaef Lopez Barrios A01366815\n",
    "\n",
    "Entendimiento de las columnas según el creador: \n",
    "Game ID;\n",
    "Rated (T/F);\n",
    "Start Time;\n",
    "End Time;\n",
    "Number of Turns;\n",
    "Game Status;\n",
    "Winner;\n",
    "Time Increment;\n",
    "White Player ID;\n",
    "White Player Rating;\n",
    "Black Player ID;\n",
    "Black Player Rating;\n",
    "All Moves in Standard Chess Notation;\n",
    "Opening Eco (Standardised Code for any given opening, list here);\n",
    "Opening Name;\n",
    "Opening Ply (Number of moves in the opening phase)\n",
    "\n",
    "link de consulta: https://www.kaggle.com/datasnaek/chess\n",
    "\n",
    "\n",
    "En este programa analizaremos una base de datos de más de 20,000 partidas de ajedrez en la pagina de lichess.org\n",
    "Se busca encontrar relaciones entre rating, color, resultado, movimientos de apertura, y movimientos hechos.\n",
    "En la primera parte del código se encuentra información general de la base de datos y su entendimiento."
   ]
  },
  {
   "cell_type": "code",
   "execution_count": null,
   "metadata": {
    "id": "MCIDslMHyfK-"
   },
   "outputs": [],
   "source": [
    "import pandas as pd  #Importamos la libreria de pandas y la renombarmos para más facilidad\n",
    "import numpy as np\n",
    "from matplotlib import pyplot as plt #importamos la libreria para graficar \n",
    "data = pd.read_csv(\"gamesChess.csv\") #Importamos el archivo con la información\n"
   ]
  },
  {
   "cell_type": "code",
   "execution_count": null,
   "metadata": {
    "id": "M0UpN8hKyfLB",
    "outputId": "77deed6a-9934-4061-b26f-8615f6c3d0ef"
   },
   "outputs": [
    {
     "data": {
      "text/html": [
       "<div>\n",
       "<style scoped>\n",
       "    .dataframe tbody tr th:only-of-type {\n",
       "        vertical-align: middle;\n",
       "    }\n",
       "\n",
       "    .dataframe tbody tr th {\n",
       "        vertical-align: top;\n",
       "    }\n",
       "\n",
       "    .dataframe thead th {\n",
       "        text-align: right;\n",
       "    }\n",
       "</style>\n",
       "<table border=\"1\" class=\"dataframe\">\n",
       "  <thead>\n",
       "    <tr style=\"text-align: right;\">\n",
       "      <th></th>\n",
       "      <th>id</th>\n",
       "      <th>rated</th>\n",
       "      <th>created_at</th>\n",
       "      <th>last_move_at</th>\n",
       "      <th>turns</th>\n",
       "      <th>victory_status</th>\n",
       "      <th>winner</th>\n",
       "      <th>increment_code</th>\n",
       "      <th>white_id</th>\n",
       "      <th>white_rating</th>\n",
       "      <th>black_id</th>\n",
       "      <th>black_rating</th>\n",
       "      <th>moves</th>\n",
       "      <th>opening_eco</th>\n",
       "      <th>opening_name</th>\n",
       "      <th>opening_ply</th>\n",
       "    </tr>\n",
       "  </thead>\n",
       "  <tbody>\n",
       "    <tr>\n",
       "      <th>0</th>\n",
       "      <td>TZJHLljE</td>\n",
       "      <td>False</td>\n",
       "      <td>1.504210e+12</td>\n",
       "      <td>1.504210e+12</td>\n",
       "      <td>13</td>\n",
       "      <td>outoftime</td>\n",
       "      <td>white</td>\n",
       "      <td>15+2</td>\n",
       "      <td>bourgris</td>\n",
       "      <td>1500</td>\n",
       "      <td>a-00</td>\n",
       "      <td>1191</td>\n",
       "      <td>d4 d5 c4 c6 cxd5 e6 dxe6 fxe6 Nf3 Bb4+ Nc3 Ba5...</td>\n",
       "      <td>D10</td>\n",
       "      <td>Slav Defense: Exchange Variation</td>\n",
       "      <td>5</td>\n",
       "    </tr>\n",
       "    <tr>\n",
       "      <th>1</th>\n",
       "      <td>l1NXvwaE</td>\n",
       "      <td>True</td>\n",
       "      <td>1.504130e+12</td>\n",
       "      <td>1.504130e+12</td>\n",
       "      <td>16</td>\n",
       "      <td>resign</td>\n",
       "      <td>black</td>\n",
       "      <td>5+10</td>\n",
       "      <td>a-00</td>\n",
       "      <td>1322</td>\n",
       "      <td>skinnerua</td>\n",
       "      <td>1261</td>\n",
       "      <td>d4 Nc6 e4 e5 f4 f6 dxe5 fxe5 fxe5 Nxe5 Qd4 Nc6...</td>\n",
       "      <td>B00</td>\n",
       "      <td>Nimzowitsch Defense: Kennedy Variation</td>\n",
       "      <td>4</td>\n",
       "    </tr>\n",
       "    <tr>\n",
       "      <th>2</th>\n",
       "      <td>mIICvQHh</td>\n",
       "      <td>True</td>\n",
       "      <td>1.504130e+12</td>\n",
       "      <td>1.504130e+12</td>\n",
       "      <td>61</td>\n",
       "      <td>mate</td>\n",
       "      <td>white</td>\n",
       "      <td>5+10</td>\n",
       "      <td>ischia</td>\n",
       "      <td>1496</td>\n",
       "      <td>a-00</td>\n",
       "      <td>1500</td>\n",
       "      <td>e4 e5 d3 d6 Be3 c6 Be2 b5 Nd2 a5 a4 c5 axb5 Nc...</td>\n",
       "      <td>C20</td>\n",
       "      <td>King's Pawn Game: Leonardis Variation</td>\n",
       "      <td>3</td>\n",
       "    </tr>\n",
       "    <tr>\n",
       "      <th>3</th>\n",
       "      <td>kWKvrqYL</td>\n",
       "      <td>True</td>\n",
       "      <td>1.504110e+12</td>\n",
       "      <td>1.504110e+12</td>\n",
       "      <td>61</td>\n",
       "      <td>mate</td>\n",
       "      <td>white</td>\n",
       "      <td>20+0</td>\n",
       "      <td>daniamurashov</td>\n",
       "      <td>1439</td>\n",
       "      <td>adivanov2009</td>\n",
       "      <td>1454</td>\n",
       "      <td>d4 d5 Nf3 Bf5 Nc3 Nf6 Bf4 Ng4 e3 Nc6 Be2 Qd7 O...</td>\n",
       "      <td>D02</td>\n",
       "      <td>Queen's Pawn Game: Zukertort Variation</td>\n",
       "      <td>3</td>\n",
       "    </tr>\n",
       "    <tr>\n",
       "      <th>4</th>\n",
       "      <td>9tXo1AUZ</td>\n",
       "      <td>True</td>\n",
       "      <td>1.504030e+12</td>\n",
       "      <td>1.504030e+12</td>\n",
       "      <td>95</td>\n",
       "      <td>mate</td>\n",
       "      <td>white</td>\n",
       "      <td>30+3</td>\n",
       "      <td>nik221107</td>\n",
       "      <td>1523</td>\n",
       "      <td>adivanov2009</td>\n",
       "      <td>1469</td>\n",
       "      <td>e4 e5 Nf3 d6 d4 Nc6 d5 Nb4 a3 Na6 Nc3 Be7 b4 N...</td>\n",
       "      <td>C41</td>\n",
       "      <td>Philidor Defense</td>\n",
       "      <td>5</td>\n",
       "    </tr>\n",
       "  </tbody>\n",
       "</table>\n",
       "</div>"
      ],
      "text/plain": [
       "         id  rated    created_at  last_move_at  turns victory_status winner  \\\n",
       "0  TZJHLljE  False  1.504210e+12  1.504210e+12     13      outoftime  white   \n",
       "1  l1NXvwaE   True  1.504130e+12  1.504130e+12     16         resign  black   \n",
       "2  mIICvQHh   True  1.504130e+12  1.504130e+12     61           mate  white   \n",
       "3  kWKvrqYL   True  1.504110e+12  1.504110e+12     61           mate  white   \n",
       "4  9tXo1AUZ   True  1.504030e+12  1.504030e+12     95           mate  white   \n",
       "\n",
       "  increment_code       white_id  white_rating      black_id  black_rating  \\\n",
       "0           15+2       bourgris          1500          a-00          1191   \n",
       "1           5+10           a-00          1322     skinnerua          1261   \n",
       "2           5+10         ischia          1496          a-00          1500   \n",
       "3           20+0  daniamurashov          1439  adivanov2009          1454   \n",
       "4           30+3      nik221107          1523  adivanov2009          1469   \n",
       "\n",
       "                                               moves opening_eco  \\\n",
       "0  d4 d5 c4 c6 cxd5 e6 dxe6 fxe6 Nf3 Bb4+ Nc3 Ba5...         D10   \n",
       "1  d4 Nc6 e4 e5 f4 f6 dxe5 fxe5 fxe5 Nxe5 Qd4 Nc6...         B00   \n",
       "2  e4 e5 d3 d6 Be3 c6 Be2 b5 Nd2 a5 a4 c5 axb5 Nc...         C20   \n",
       "3  d4 d5 Nf3 Bf5 Nc3 Nf6 Bf4 Ng4 e3 Nc6 Be2 Qd7 O...         D02   \n",
       "4  e4 e5 Nf3 d6 d4 Nc6 d5 Nb4 a3 Na6 Nc3 Be7 b4 N...         C41   \n",
       "\n",
       "                             opening_name  opening_ply  \n",
       "0        Slav Defense: Exchange Variation            5  \n",
       "1  Nimzowitsch Defense: Kennedy Variation            4  \n",
       "2   King's Pawn Game: Leonardis Variation            3  \n",
       "3  Queen's Pawn Game: Zukertort Variation            3  \n",
       "4                        Philidor Defense            5  "
      ]
     },
     "execution_count": 4,
     "metadata": {
      "tags": []
     },
     "output_type": "execute_result"
    }
   ],
   "source": [
    "data.head() #Mostramos la información de nuestro archivo para corroborrar que está en orden\n"
   ]
  },
  {
   "cell_type": "code",
   "execution_count": null,
   "metadata": {
    "id": "ghz4JajKyfLE",
    "outputId": "a7ec7334-dd9c-4b1d-8115-a52626f7a748"
   },
   "outputs": [
    {
     "data": {
      "text/plain": [
       "Index(['id', 'rated', 'created_at', 'last_move_at', 'turns', 'victory_status',\n",
       "       'winner', 'increment_code', 'white_id', 'white_rating', 'black_id',\n",
       "       'black_rating', 'moves', 'opening_eco', 'opening_name', 'opening_ply'],\n",
       "      dtype='object')"
      ]
     },
     "execution_count": 5,
     "metadata": {
      "tags": []
     },
     "output_type": "execute_result"
    }
   ],
   "source": [
    "data.columns #mostramos las columnas de la tabla"
   ]
  },
  {
   "cell_type": "code",
   "execution_count": null,
   "metadata": {
    "id": "JvncdmfYyfLF",
    "outputId": "a22e97c4-b1ff-4944-b447-7bc1ccc180ec"
   },
   "outputs": [
    {
     "data": {
      "text/plain": [
       "id                 object\n",
       "rated                bool\n",
       "created_at        float64\n",
       "last_move_at      float64\n",
       "turns               int64\n",
       "victory_status     object\n",
       "winner             object\n",
       "increment_code     object\n",
       "white_id           object\n",
       "white_rating        int64\n",
       "black_id           object\n",
       "black_rating        int64\n",
       "moves              object\n",
       "opening_eco        object\n",
       "opening_name       object\n",
       "opening_ply         int64\n",
       "dtype: object"
      ]
     },
     "execution_count": 6,
     "metadata": {
      "tags": []
     },
     "output_type": "execute_result"
    }
   ],
   "source": [
    "data.dtypes #Mostramos el tipo de información que existe"
   ]
  },
  {
   "cell_type": "code",
   "execution_count": null,
   "metadata": {
    "id": "tgG8iw2dyfLG",
    "outputId": "74c8ab00-6e2e-4fe1-9d9f-eafe35426100"
   },
   "outputs": [
    {
     "name": "stdout",
     "output_type": "stream",
     "text": [
      "<class 'pandas.core.frame.DataFrame'>\n",
      "RangeIndex: 20058 entries, 0 to 20057\n",
      "Data columns (total 16 columns):\n",
      " #   Column          Non-Null Count  Dtype  \n",
      "---  ------          --------------  -----  \n",
      " 0   id              20058 non-null  object \n",
      " 1   rated           20058 non-null  bool   \n",
      " 2   created_at      20058 non-null  float64\n",
      " 3   last_move_at    20058 non-null  float64\n",
      " 4   turns           20058 non-null  int64  \n",
      " 5   victory_status  20058 non-null  object \n",
      " 6   winner          20058 non-null  object \n",
      " 7   increment_code  20058 non-null  object \n",
      " 8   white_id        20058 non-null  object \n",
      " 9   white_rating    20058 non-null  int64  \n",
      " 10  black_id        20058 non-null  object \n",
      " 11  black_rating    20058 non-null  int64  \n",
      " 12  moves           20058 non-null  object \n",
      " 13  opening_eco     20058 non-null  object \n",
      " 14  opening_name    20058 non-null  object \n",
      " 15  opening_ply     20058 non-null  int64  \n",
      "dtypes: bool(1), float64(2), int64(4), object(9)\n",
      "memory usage: 2.3+ MB\n"
     ]
    }
   ],
   "source": [
    "data.info() #Mostramos el tipo de datos en cada columna"
   ]
  },
  {
   "cell_type": "code",
   "execution_count": null,
   "metadata": {
    "id": "9Y7BamdyyfLH",
    "outputId": "b61b3da9-1eea-47a4-b353-07d34ff83dec"
   },
   "outputs": [
    {
     "data": {
      "text/html": [
       "<div>\n",
       "<style scoped>\n",
       "    .dataframe tbody tr th:only-of-type {\n",
       "        vertical-align: middle;\n",
       "    }\n",
       "\n",
       "    .dataframe tbody tr th {\n",
       "        vertical-align: top;\n",
       "    }\n",
       "\n",
       "    .dataframe thead th {\n",
       "        text-align: right;\n",
       "    }\n",
       "</style>\n",
       "<table border=\"1\" class=\"dataframe\">\n",
       "  <thead>\n",
       "    <tr style=\"text-align: right;\">\n",
       "      <th></th>\n",
       "      <th>created_at</th>\n",
       "      <th>last_move_at</th>\n",
       "      <th>turns</th>\n",
       "      <th>white_rating</th>\n",
       "      <th>black_rating</th>\n",
       "      <th>opening_ply</th>\n",
       "    </tr>\n",
       "  </thead>\n",
       "  <tbody>\n",
       "    <tr>\n",
       "      <th>count</th>\n",
       "      <td>2.005800e+04</td>\n",
       "      <td>2.005800e+04</td>\n",
       "      <td>20058.000000</td>\n",
       "      <td>20058.000000</td>\n",
       "      <td>20058.000000</td>\n",
       "      <td>20058.000000</td>\n",
       "    </tr>\n",
       "    <tr>\n",
       "      <th>mean</th>\n",
       "      <td>1.483617e+12</td>\n",
       "      <td>1.483618e+12</td>\n",
       "      <td>60.465999</td>\n",
       "      <td>1596.631868</td>\n",
       "      <td>1588.831987</td>\n",
       "      <td>4.816981</td>\n",
       "    </tr>\n",
       "    <tr>\n",
       "      <th>std</th>\n",
       "      <td>2.850151e+10</td>\n",
       "      <td>2.850140e+10</td>\n",
       "      <td>33.570585</td>\n",
       "      <td>291.253376</td>\n",
       "      <td>291.036126</td>\n",
       "      <td>2.797152</td>\n",
       "    </tr>\n",
       "    <tr>\n",
       "      <th>min</th>\n",
       "      <td>1.376772e+12</td>\n",
       "      <td>1.376772e+12</td>\n",
       "      <td>1.000000</td>\n",
       "      <td>784.000000</td>\n",
       "      <td>789.000000</td>\n",
       "      <td>1.000000</td>\n",
       "    </tr>\n",
       "    <tr>\n",
       "      <th>25%</th>\n",
       "      <td>1.477548e+12</td>\n",
       "      <td>1.477548e+12</td>\n",
       "      <td>37.000000</td>\n",
       "      <td>1398.000000</td>\n",
       "      <td>1391.000000</td>\n",
       "      <td>3.000000</td>\n",
       "    </tr>\n",
       "    <tr>\n",
       "      <th>50%</th>\n",
       "      <td>1.496010e+12</td>\n",
       "      <td>1.496010e+12</td>\n",
       "      <td>55.000000</td>\n",
       "      <td>1567.000000</td>\n",
       "      <td>1562.000000</td>\n",
       "      <td>4.000000</td>\n",
       "    </tr>\n",
       "    <tr>\n",
       "      <th>75%</th>\n",
       "      <td>1.503170e+12</td>\n",
       "      <td>1.503170e+12</td>\n",
       "      <td>79.000000</td>\n",
       "      <td>1793.000000</td>\n",
       "      <td>1784.000000</td>\n",
       "      <td>6.000000</td>\n",
       "    </tr>\n",
       "    <tr>\n",
       "      <th>max</th>\n",
       "      <td>1.504493e+12</td>\n",
       "      <td>1.504494e+12</td>\n",
       "      <td>349.000000</td>\n",
       "      <td>2700.000000</td>\n",
       "      <td>2723.000000</td>\n",
       "      <td>28.000000</td>\n",
       "    </tr>\n",
       "  </tbody>\n",
       "</table>\n",
       "</div>"
      ],
      "text/plain": [
       "         created_at  last_move_at         turns  white_rating  black_rating  \\\n",
       "count  2.005800e+04  2.005800e+04  20058.000000  20058.000000  20058.000000   \n",
       "mean   1.483617e+12  1.483618e+12     60.465999   1596.631868   1588.831987   \n",
       "std    2.850151e+10  2.850140e+10     33.570585    291.253376    291.036126   \n",
       "min    1.376772e+12  1.376772e+12      1.000000    784.000000    789.000000   \n",
       "25%    1.477548e+12  1.477548e+12     37.000000   1398.000000   1391.000000   \n",
       "50%    1.496010e+12  1.496010e+12     55.000000   1567.000000   1562.000000   \n",
       "75%    1.503170e+12  1.503170e+12     79.000000   1793.000000   1784.000000   \n",
       "max    1.504493e+12  1.504494e+12    349.000000   2700.000000   2723.000000   \n",
       "\n",
       "        opening_ply  \n",
       "count  20058.000000  \n",
       "mean       4.816981  \n",
       "std        2.797152  \n",
       "min        1.000000  \n",
       "25%        3.000000  \n",
       "50%        4.000000  \n",
       "75%        6.000000  \n",
       "max       28.000000  "
      ]
     },
     "execution_count": 8,
     "metadata": {
      "tags": []
     },
     "output_type": "execute_result"
    }
   ],
   "source": [
    "data .describe() #Mostramos la información estadistica"
   ]
  },
  {
   "cell_type": "code",
   "execution_count": null,
   "metadata": {
    "id": "3k7uN3sLyfLJ",
    "outputId": "09e32a24-c965-48d2-b77f-22f45323fb35"
   },
   "outputs": [
    {
     "data": {
      "text/plain": [
       "array([False,  True])"
      ]
     },
     "execution_count": 9,
     "metadata": {
      "tags": []
     },
     "output_type": "execute_result"
    }
   ],
   "source": [
    "pd.unique(data[\"rated\"]) #Que valores existen en la columna rated"
   ]
  },
  {
   "cell_type": "code",
   "execution_count": null,
   "metadata": {
    "id": "NSb50Gs9yfLK",
    "outputId": "6d569256-f3fc-4257-e1a7-7bf240b3e10b",
    "scrolled": true
   },
   "outputs": [
    {
     "data": {
      "text/plain": [
       "count     20058\n",
       "unique        2\n",
       "top        True\n",
       "freq      16155\n",
       "Name: rated, dtype: object"
      ]
     },
     "execution_count": 10,
     "metadata": {
      "tags": []
     },
     "output_type": "execute_result"
    }
   ],
   "source": [
    "data[\"rated\"].describe() #Analísis estadistico de la columna, top nos muestra cual es la moda en la columna en este caso los jugadores registrados."
   ]
  },
  {
   "cell_type": "code",
   "execution_count": null,
   "metadata": {
    "id": "22_tgUZGyfLL",
    "outputId": "c5fb981a-a5bc-4d42-cf1f-ae4b718a5e18"
   },
   "outputs": [
    {
     "name": "stdout",
     "output_type": "stream",
     "text": [
      "Cantidad de datos : 320928\n"
     ]
    }
   ],
   "source": [
    "data_size = data.size\n",
    "print(\"Cantidad de datos :\",data_size)"
   ]
  },
  {
   "cell_type": "code",
   "execution_count": null,
   "metadata": {
    "id": "tDoDYbowyfLM",
    "outputId": "91a40043-92e9-47f0-89ba-f415ed5f99da"
   },
   "outputs": [
    {
     "data": {
      "text/plain": [
       "<bound method DataFrame.info of              id  rated    created_at  last_move_at  turns victory_status  \\\n",
       "0      TZJHLljE  False  1.504210e+12  1.504210e+12     13      outoftime   \n",
       "1      l1NXvwaE   True  1.504130e+12  1.504130e+12     16         resign   \n",
       "2      mIICvQHh   True  1.504130e+12  1.504130e+12     61           mate   \n",
       "3      kWKvrqYL   True  1.504110e+12  1.504110e+12     61           mate   \n",
       "4      9tXo1AUZ   True  1.504030e+12  1.504030e+12     95           mate   \n",
       "...         ...    ...           ...           ...    ...            ...   \n",
       "20053  EfqH7VVH   True  1.499791e+12  1.499791e+12     24         resign   \n",
       "20054  WSJDhbPl   True  1.499698e+12  1.499699e+12     82           mate   \n",
       "20055  yrAas0Kj   True  1.499698e+12  1.499698e+12     35           mate   \n",
       "20056  b0v4tRyF   True  1.499696e+12  1.499697e+12    109         resign   \n",
       "20057  N8G2JHGG   True  1.499643e+12  1.499644e+12     78           mate   \n",
       "\n",
       "      winner increment_code       white_id  white_rating            black_id  \\\n",
       "0      white           15+2       bourgris          1500                a-00   \n",
       "1      black           5+10           a-00          1322           skinnerua   \n",
       "2      white           5+10         ischia          1496                a-00   \n",
       "3      white           20+0  daniamurashov          1439        adivanov2009   \n",
       "4      white           30+3      nik221107          1523        adivanov2009   \n",
       "...      ...            ...            ...           ...                 ...   \n",
       "20053  white          10+10        belcolt          1691            jamboger   \n",
       "20054  black           10+0       jamboger          1233  farrukhasomiddinov   \n",
       "20055  white           10+0       jamboger          1219        schaaksmurf3   \n",
       "20056  white           10+0   marcodisogno          1360            jamboger   \n",
       "20057  black           10+0       jamboger          1235               ffbob   \n",
       "\n",
       "       black_rating                                              moves  \\\n",
       "0              1191  d4 d5 c4 c6 cxd5 e6 dxe6 fxe6 Nf3 Bb4+ Nc3 Ba5...   \n",
       "1              1261  d4 Nc6 e4 e5 f4 f6 dxe5 fxe5 fxe5 Nxe5 Qd4 Nc6...   \n",
       "2              1500  e4 e5 d3 d6 Be3 c6 Be2 b5 Nd2 a5 a4 c5 axb5 Nc...   \n",
       "3              1454  d4 d5 Nf3 Bf5 Nc3 Nf6 Bf4 Ng4 e3 Nc6 Be2 Qd7 O...   \n",
       "4              1469  e4 e5 Nf3 d6 d4 Nc6 d5 Nb4 a3 Na6 Nc3 Be7 b4 N...   \n",
       "...             ...                                                ...   \n",
       "20053          1220  d4 f5 e3 e6 Nf3 Nf6 Nc3 b6 Be2 Bb7 O-O Be7 Ne5...   \n",
       "20054          1196  d4 d6 Bf4 e5 Bg3 Nf6 e3 exd4 exd4 d5 c3 Bd6 Bd...   \n",
       "20055          1286  d4 d5 Bf4 Nc6 e3 Nf6 c3 e6 Nf3 Be7 Bd3 O-O Nbd...   \n",
       "20056          1227  e4 d6 d4 Nf6 e5 dxe5 dxe5 Qxd1+ Kxd1 Nd5 c4 Nb...   \n",
       "20057          1339  d4 d5 Bf4 Na6 e3 e6 c3 Nf6 Nf3 Bd7 Nbd2 b5 Bd3...   \n",
       "\n",
       "      opening_eco                            opening_name  opening_ply  \n",
       "0             D10        Slav Defense: Exchange Variation            5  \n",
       "1             B00  Nimzowitsch Defense: Kennedy Variation            4  \n",
       "2             C20   King's Pawn Game: Leonardis Variation            3  \n",
       "3             D02  Queen's Pawn Game: Zukertort Variation            3  \n",
       "4             C41                        Philidor Defense            5  \n",
       "...           ...                                     ...          ...  \n",
       "20053         A80                           Dutch Defense            2  \n",
       "20054         A41                            Queen's Pawn            2  \n",
       "20055         D00         Queen's Pawn Game: Mason Attack            3  \n",
       "20056         B07                            Pirc Defense            4  \n",
       "20057         D00         Queen's Pawn Game: Mason Attack            3  \n",
       "\n",
       "[20058 rows x 16 columns]>"
      ]
     },
     "execution_count": 12,
     "metadata": {
      "tags": []
     },
     "output_type": "execute_result"
    }
   ],
   "source": [
    "data.info # conocer las ramas y columnas"
   ]
  },
  {
   "cell_type": "code",
   "execution_count": null,
   "metadata": {
    "id": "T5ZGNbVSyfLN",
    "outputId": "b683b741-767f-4bed-f8bd-b153d55c55c9"
   },
   "outputs": [
    {
     "data": {
      "text/plain": [
       "array([ 13,  16,  61,  95,   5,  33,   9,  66, 119,  39,  38,  60,  31,\n",
       "        43,  52, 101,  25,  14,   3,  17,  36,  69,  54,  53,  64,  21,\n",
       "        11,  19,  28,  22,  37,  34,  32,  71,  30,  41,  49,   7,  35,\n",
       "         8,  44,  29,  40,  57,  78,  62,  87,  50, 131,  48,  47,  51,\n",
       "        58, 114,  20,  85, 113,  75, 135,  81,  46,  70,  91, 137,  18,\n",
       "       111,  90,  59,  26,  23, 118, 120,  24,   2,  97,  12,  72, 156,\n",
       "        77,  65,  73, 125,  76,  63, 107, 100,  80, 105, 144, 158, 117,\n",
       "       110, 178, 136, 124,  96,  10, 106,  15,  42, 159,  74, 112, 104,\n",
       "       150,  88,  55, 103, 177,  82,  99,  67,   6, 115,  83,  89, 116,\n",
       "        27, 102,  45,  98, 108,  92,  56, 123, 129,   4, 163, 130, 121,\n",
       "        94,  79, 148, 195, 122, 128,  84,  86,  93, 161, 133,  68, 153,\n",
       "       154, 160, 141, 132, 204, 140, 168, 127, 109, 174, 157, 142, 143,\n",
       "       170,   1, 138, 171, 145, 151, 179, 149, 173, 208, 139, 134, 169,\n",
       "       155, 164, 147, 126, 146, 190, 167, 255, 210, 176, 172, 188, 152,\n",
       "       182, 184, 162, 221, 189, 166, 196, 165, 193, 175, 349, 198, 218,\n",
       "       205, 207, 216, 206, 200, 181, 180, 183, 222, 209, 185, 259, 226,\n",
       "       212, 187, 201], dtype=int64)"
      ]
     },
     "execution_count": 13,
     "metadata": {
      "tags": []
     },
     "output_type": "execute_result"
    }
   ],
   "source": [
    "pd.unique(data[\"turns\"]) #Que valores existen en la columna turns"
   ]
  },
  {
   "cell_type": "code",
   "execution_count": null,
   "metadata": {
    "id": "8lIf91WpyfLO",
    "outputId": "e20eaf5f-336b-4781-ae05-ed0c0eace5a6",
    "scrolled": true
   },
   "outputs": [
    {
     "name": "stdout",
     "output_type": "stream",
     "text": [
      "Mediana turns      : 55.0\n",
      "Media turns        : 60.46599860404826\n",
      "Moda turns         : 53\n",
      "Desv. Est. turns   : 33.570584753537055\n",
      "Valor mínimo turns : 1\n",
      "Valor máximo turns : 349\n"
     ]
    },
    {
     "data": {
      "text/plain": [
       "count    20058.000000\n",
       "mean        60.465999\n",
       "std         33.570585\n",
       "min          1.000000\n",
       "25%         37.000000\n",
       "50%         55.000000\n",
       "75%         79.000000\n",
       "max        349.000000\n",
       "Name: turns, dtype: float64"
      ]
     },
     "execution_count": 25,
     "metadata": {
      "tags": []
     },
     "output_type": "execute_result"
    }
   ],
   "source": [
    "mediana_turns = data[\"turns\"].median()\n",
    "media_turns   = data[\"turns\"].mean()\n",
    "moda_turns    = data[\"turns\"].mode().max()\n",
    "std_turns     = data[\"turns\"].std()\n",
    "min_turns     = data[\"turns\"].min()\n",
    "max_turns     = data[\"turns\"].max()\n",
    "\n",
    "print(\"Mediana turns      :\",mediana_turns)\n",
    "print(\"Media turns        :\",media_turns)\n",
    "print(\"Moda turns         :\",moda_turns)\n",
    "print(\"Desv. Est. turns   :\",std_turns)\n",
    "print(\"Valor mínimo turns :\",min_turns)\n",
    "print(\"Valor máximo turns :\",max_turns)\n",
    "\n",
    "data[\"turns\"].describe()"
   ]
  },
  {
   "cell_type": "markdown",
   "metadata": {
    "id": "8jq04y_kyfLP"
   },
   "source": [
    "¿Qué representa? -> La variable 'turns' representa el número de movimientos totales en una partida, en la cual, un movimiento representa tanto uno de blancas como uno de negras, es decir, cuando ambos jugadores han hecho sus movimientos (1 cada uno)."
   ]
  },
  {
   "cell_type": "markdown",
   "metadata": {
    "id": "QxZIHXbXyfLQ"
   },
   "source": [
    "Conclusiones ->  Se denota que en las partidas de ajedrez de la pagina lichess.org lo más normal es que sean 60 movimientos, donde la moda es de 53, cabe denotar que la desviación estandar no se puede tomar de forma significativa ya que el maximo y el minimo están muy separados, para más información se deberia de revisar la tabla de distribución."
   ]
  },
  {
   "cell_type": "code",
   "execution_count": null,
   "metadata": {
    "id": "vUIrP3P1yfLR",
    "outputId": "af939b44-67e5-4905-aa8b-4bdaea46a0bd"
   },
   "outputs": [
    {
     "data": {
      "text/plain": [
       "array(['white', 'black', 'draw'], dtype=object)"
      ]
     },
     "execution_count": 15,
     "metadata": {
      "tags": []
     },
     "output_type": "execute_result"
    }
   ],
   "source": [
    "pd.unique(data[\"winner\"])"
   ]
  },
  {
   "cell_type": "code",
   "execution_count": null,
   "metadata": {
    "id": "-VQ8JfXOyfLR",
    "outputId": "44864d75-735a-4dc1-9e2a-36442e27e8c0",
    "scrolled": true
   },
   "outputs": [
    {
     "name": "stdout",
     "output_type": "stream",
     "text": [
      "Moda winner         : white\n"
     ]
    },
    {
     "data": {
      "text/plain": [
       "count     20058\n",
       "unique        3\n",
       "top       white\n",
       "freq      10001\n",
       "Name: winner, dtype: object"
      ]
     },
     "execution_count": 26,
     "metadata": {
      "tags": []
     },
     "output_type": "execute_result"
    }
   ],
   "source": [
    "# mediana_winner = data[\"winner\"].median()\n",
    "# media_winner   = data[\"winner\"].mean()\n",
    "moda_winner    = data[\"winner\"].mode().max()\n",
    "# std_winner     = data[\"winner\"].std()\n",
    "# min_winner     = data[\"winner\"].min()\n",
    "# max_winner     = data[\"winner\"].max()\n",
    "\n",
    "# print(\"Mediana winner      :\",mediana_winner)\n",
    "# print(\"Media winner        :\",media_winner)\n",
    "print(\"Moda winner         :\",moda_winner)\n",
    "# print(\"Desv. Est. winner   :\",std_winner)\n",
    "# print(\"Valor mínimo winner :\",min_winner)\n",
    "# print(\"Valor máximo winner :\",max_winner)\n",
    "\n",
    "data[\"winner\"].describe()"
   ]
  },
  {
   "cell_type": "markdown",
   "metadata": {
    "id": "Ipx3MlT4yfLS"
   },
   "source": [
    "¿Qué representa? -> La variable winner nos da el atributo si la partida fue ganada por blancas, negras o un empate."
   ]
  },
  {
   "cell_type": "markdown",
   "metadata": {
    "id": "RM1u3tP9yfLT"
   },
   "source": [
    "\n",
    "\n",
    "```\n",
    "# Esto tiene formato de código\n",
    "```\n",
    "\n",
    "Conclusiones ->  Podemos ver que las personas que juegan de blancas y tienen el primer movimiento tienden a ganar la partida."
   ]
  },
  {
   "cell_type": "code",
   "execution_count": null,
   "metadata": {
    "id": "WW-X7W15yfLU",
    "outputId": "1c5af975-4fe8-4b0b-8c2a-bb3b6635a3a9"
   },
   "outputs": [
    {
     "data": {
      "text/plain": [
       "array(['outoftime', 'resign', 'mate', 'draw'], dtype=object)"
      ]
     },
     "execution_count": 17,
     "metadata": {
      "tags": []
     },
     "output_type": "execute_result"
    }
   ],
   "source": [
    "pd.unique(data[\"victory_status\"])"
   ]
  },
  {
   "cell_type": "code",
   "execution_count": null,
   "metadata": {
    "id": "8SlbMDcbyfLU",
    "outputId": "f56c9f37-d3c9-4550-e311-d6fd202d1760"
   },
   "outputs": [
    {
     "name": "stdout",
     "output_type": "stream",
     "text": [
      "Moda victory_status         : resign\n"
     ]
    },
    {
     "data": {
      "text/plain": [
       "count      20058\n",
       "unique         4\n",
       "top       resign\n",
       "freq       11147\n",
       "Name: victory_status, dtype: object"
      ]
     },
     "execution_count": 29,
     "metadata": {
      "tags": []
     },
     "output_type": "execute_result"
    }
   ],
   "source": [
    "# mediana_victory_status = data[\"victory_status\"].median()\n",
    "# media_victory_status   = data[\"victory_status\"].mean()\n",
    "moda_victory_status    = data[\"victory_status\"].mode().max()\n",
    "# std_victory_status     = data[\"victory_status\"].std()\n",
    "# min_victory_status     = data[\"victory_status\"].min()\n",
    "# max_victory_status     = data[\"victory_status\"].max()\n",
    "\n",
    "# print(\"Mediana victory_status      :\",mediana_victory_status)\n",
    "# print(\"Media victory_status        :\",media_victory_status)\n",
    "print(\"Moda victory_status         :\",moda_victory_status)\n",
    "# print(\"Desv. Est. victory_status   :\",std_victory_status)\n",
    "# print(\"Valor mínimo victory_status :\",min_victory_status)\n",
    "# print(\"Valor máximo victory_status :\",max_victory_status)\n",
    "\n",
    "data[\"victory_status\"].describe() "
   ]
  },
  {
   "cell_type": "markdown",
   "metadata": {
    "id": "WrVZuYyjyfLV"
   },
   "source": [
    "¿Qué representa? -> La variable victory_status nos dice en que terminaron las partidas, se puede terminar una partida por que se acabo el tiempo de un jugador, jaque mate, empate o que un participante renuncie."
   ]
  },
  {
   "cell_type": "markdown",
   "metadata": {
    "id": "PFSFCeFwyfLW"
   },
   "source": [
    "Conclusiones ->  Se puede observar que las mayorias de las partidas son terminada por que uno de los juadores resigna, esto se puede ya que en ajedrez es común que si la partida está perdida la persona se rinda."
   ]
  },
  {
   "cell_type": "code",
   "execution_count": null,
   "metadata": {
    "id": "G-e_6xoxyfLW",
    "outputId": "7e7c38c6-976d-401b-84bd-6ef4f2114f23"
   },
   "outputs": [
    {
     "data": {
      "text/plain": [
       "array([1500, 1322, 1496, ...,  860,  929,  880], dtype=int64)"
      ]
     },
     "execution_count": 19,
     "metadata": {
      "tags": []
     },
     "output_type": "execute_result"
    }
   ],
   "source": [
    "pd.unique(data[\"white_rating\"])"
   ]
  },
  {
   "cell_type": "code",
   "execution_count": null,
   "metadata": {
    "id": "1Fy4-kC8yfLX",
    "outputId": "3db5030a-9f2a-483e-e779-92e6162128dd"
   },
   "outputs": [
    {
     "name": "stdout",
     "output_type": "stream",
     "text": [
      "Mediana white_rating      : 1567.0\n",
      "Media white_rating        : 1596.6318675840064\n",
      "Moda white_rating         : 1500\n",
      "Desv. Est. white_rating   : 291.25337573701944\n",
      "Valor mínimo white_rating : 784\n",
      "Valor máximo white_rating : 2700\n"
     ]
    },
    {
     "data": {
      "text/plain": [
       "count    20058.000000\n",
       "mean      1596.631868\n",
       "std        291.253376\n",
       "min        784.000000\n",
       "25%       1398.000000\n",
       "50%       1567.000000\n",
       "75%       1793.000000\n",
       "max       2700.000000\n",
       "Name: white_rating, dtype: float64"
      ]
     },
     "execution_count": 34,
     "metadata": {
      "tags": []
     },
     "output_type": "execute_result"
    }
   ],
   "source": [
    "mediana_white_rating = data[\"white_rating\"].median()\n",
    "media_white_rating   = data[\"white_rating\"].mean()\n",
    "moda_white_rating    = data[\"white_rating\"].mode().max()\n",
    "std_white_rating     = data[\"white_rating\"].std()\n",
    "min_white_rating     = data[\"white_rating\"].min()\n",
    "max_white_rating     = data[\"white_rating\"].max()\n",
    "\n",
    "print(\"Mediana white_rating      :\",mediana_white_rating)\n",
    "print(\"Media white_rating        :\",media_white_rating)\n",
    "print(\"Moda white_rating         :\",moda_white_rating)\n",
    "print(\"Desv. Est. white_rating   :\",std_white_rating)\n",
    "print(\"Valor mínimo white_rating :\",min_white_rating)\n",
    "print(\"Valor máximo white_rating :\",max_white_rating)\n",
    "\n",
    "data[\"white_rating\"].describe() "
   ]
  },
  {
   "cell_type": "markdown",
   "metadata": {
    "id": "WUnwtz15yfLa"
   },
   "source": [
    "¿Qué representa? -> Aqui podemos ver cuál es el puntaje de cada jugador que juegan con blancas, esto se ganan o pierden en las partidas. "
   ]
  },
  {
   "cell_type": "markdown",
   "metadata": {
    "id": "8TiRRv-myfLb"
   },
   "source": [
    "Conclusiones -> Sabiendo el rating de los jugadores de lichess, podemos ver en que rango de jugadores se pueden encontrar en la pagina,en este caso el jugador con más ranking al jugar con blancas es de 2700 puntos y el minimo de 784. Estos valores están lejos de la media de jugadores que se encuentra en 1596 puntos, la desviación estandar es de tan solo 291 puntos por lo que podemos concluir que la mayoria de los jugadores con piezas blancas están entre 1300-1800."
   ]
  },
  {
   "cell_type": "code",
   "execution_count": null,
   "metadata": {
    "id": "bUUBfvS2yfLb",
    "outputId": "50d190a4-2778-4fc7-932f-2061ac49ad5f"
   },
   "outputs": [
    {
     "data": {
      "text/plain": [
       "array([1191, 1261, 1500, ...,  840,  857,  860], dtype=int64)"
      ]
     },
     "execution_count": 26,
     "metadata": {
      "tags": []
     },
     "output_type": "execute_result"
    }
   ],
   "source": [
    "pd.unique(data[\"black_rating\"])"
   ]
  },
  {
   "cell_type": "code",
   "execution_count": null,
   "metadata": {
    "id": "kSYPr8ONyfLc",
    "outputId": "c8d349b5-75ae-4496-e9e9-3d8e7c9216e7"
   },
   "outputs": [
    {
     "name": "stdout",
     "output_type": "stream",
     "text": [
      "Mediana black_rating      : 1562.0\n",
      "Media black_rating        : 1588.8319872370128\n",
      "Moda black_rating         : 1500\n",
      "Desv. Est. black_rating   : 291.03612596033696\n",
      "Valor mínimo black_rating : 789\n",
      "Valor máximo black_rating : 2723\n"
     ]
    },
    {
     "data": {
      "text/plain": [
       "count    20058.000000\n",
       "mean      1588.831987\n",
       "std        291.036126\n",
       "min        789.000000\n",
       "25%       1391.000000\n",
       "50%       1562.000000\n",
       "75%       1784.000000\n",
       "max       2723.000000\n",
       "Name: black_rating, dtype: float64"
      ]
     },
     "execution_count": 35,
     "metadata": {
      "tags": []
     },
     "output_type": "execute_result"
    }
   ],
   "source": [
    "mediana_black_rating = data[\"black_rating\"].median()\n",
    "media_black_rating   = data[\"black_rating\"].mean()\n",
    "moda_black_rating    = data[\"black_rating\"].mode().max()\n",
    "std_black_rating     = data[\"black_rating\"].std()\n",
    "min_black_rating     = data[\"black_rating\"].min()\n",
    "max_black_rating     = data[\"black_rating\"].max()\n",
    "\n",
    "print(\"Mediana black_rating      :\",mediana_black_rating)\n",
    "print(\"Media black_rating        :\",media_black_rating)\n",
    "print(\"Moda black_rating         :\",moda_black_rating)\n",
    "print(\"Desv. Est. black_rating   :\",std_black_rating)\n",
    "print(\"Valor mínimo black_rating :\",min_black_rating)\n",
    "print(\"Valor máximo black_rating :\",max_black_rating)\n",
    "\n",
    "data[\"black_rating\"].describe()"
   ]
  },
  {
   "cell_type": "markdown",
   "metadata": {
    "id": "HpgujgfdyfLd"
   },
   "source": [
    "¿Qué representa? -> En esta sección se puede observar el puntaje de cada jugador que juegan con negras. Al igual que en el caso anterior, esto se ganan o pierden en las partidas. "
   ]
  },
  {
   "cell_type": "markdown",
   "metadata": {
    "id": "Bog4pC2LyfLd"
   },
   "source": [
    "Conclusiones -> Aqui podemos ver que el jugador con más ranking al jugar con negras es de 2723 puntos y el minimo de 789. Estos valores están lejos de la media de jugadores que se encuentra en 1588 puntos, y en el mismo caso que las blancas, la desviación estandar es 291 puntos. Basandonos en el promedio, podemos decir que los jugadores de piezas negras tienen menor puntaje que los jugadores con piezas blancas."
   ]
  },
  {
   "cell_type": "code",
   "execution_count": null,
   "metadata": {
    "id": "w_2JGo8LyfLe",
    "outputId": "cc0a317c-9e36-4148-fa7b-2c1074b0b9e4"
   },
   "outputs": [
    {
     "data": {
      "text/plain": [
       "array(['Slav Defense: Exchange Variation',\n",
       "       'Nimzowitsch Defense: Kennedy Variation',\n",
       "       \"King's Pawn Game: Leonardis Variation\", ...,\n",
       "       \"Queen's Indian Defense: Classical Variation |  Traditional Variation\",\n",
       "       \"Queen's Gambit Declined: Slav |  Dutch Variation\",\n",
       "       'Sicilian Defense: Najdorf Variation |  Polugaevsky Variation'],\n",
       "      dtype=object)"
      ]
     },
     "execution_count": 28,
     "metadata": {
      "tags": []
     },
     "output_type": "execute_result"
    }
   ],
   "source": [
    "pd.unique(data[\"opening_name\"])"
   ]
  },
  {
   "cell_type": "code",
   "execution_count": null,
   "metadata": {
    "id": "ri2hOuLPyfLf",
    "outputId": "cc97b21d-ae11-4e9d-f8da-e0a01bbc239d"
   },
   "outputs": [
    {
     "name": "stdout",
     "output_type": "stream",
     "text": [
      "Moda opening_name         : Van't Kruijs Opening\n"
     ]
    },
    {
     "data": {
      "text/plain": [
       "count                    20058\n",
       "unique                    1477\n",
       "top       Van't Kruijs Opening\n",
       "freq                       368\n",
       "Name: opening_name, dtype: object"
      ]
     },
     "execution_count": 38,
     "metadata": {
      "tags": []
     },
     "output_type": "execute_result"
    }
   ],
   "source": [
    "# mediana_opening_name = data[\"opening_name\"].median()\n",
    "# media_opening_name  = data[\"opening_name\"].mean()\n",
    "moda_opening_name    = data[\"opening_name\"].mode().max()\n",
    "# std_opening_name     = data[\"opening_name\"].std()\n",
    "# min_opening_name     = data[\"opening_name\"].min()\n",
    "# max_opening_name     = data[\"opening_name\"].max()\n",
    "\n",
    "# print(\"Mediana opening_name      :\",mediana_opening_name)\n",
    "# print(\"Media opening_name        :\",media_opening_name)\n",
    "print(\"Moda opening_name         :\",moda_opening_name)\n",
    "# print(\"Desv. Est. opening_name   :\",std_opening_name)\n",
    "# print(\"Valor mínimo opening_name :\",min_opening_name)\n",
    "# print(\"Valor máximo opening_name :\",max_opening_name)\n",
    "\n",
    "data[\"opening_name\"].describe() "
   ]
  },
  {
   "cell_type": "markdown",
   "metadata": {
    "id": "U7sc6RZeyfLg"
   },
   "source": [
    "¿Qué representa? -> La variable \"opening_name\" nos dice la táctica de apertura que más veces usan al iniciar una partida de ajedrez."
   ]
  },
  {
   "cell_type": "markdown",
   "metadata": {
    "id": "s-M-L44dyfLh"
   },
   "source": [
    "Conclusiones -> Podemos decir que la táctica de apertura más usado en una partida de ajedrez es Van´t Kruijs."
   ]
  },
  {
   "cell_type": "code",
   "execution_count": null,
   "metadata": {
    "id": "zWqAywdhyfLh",
    "outputId": "ad2022cc-3986-4924-8d85-844159e39e96"
   },
   "outputs": [
    {
     "data": {
      "text/plain": [
       "array([ 5,  4,  3, 10,  6,  1,  9,  2,  8,  7, 17, 11, 12, 13, 18, 19, 15,\n",
       "       16, 14, 28, 20, 22, 24], dtype=int64)"
      ]
     },
     "execution_count": 39,
     "metadata": {
      "tags": []
     },
     "output_type": "execute_result"
    }
   ],
   "source": [
    "pd.unique(data[\"opening_ply\"])"
   ]
  },
  {
   "cell_type": "code",
   "execution_count": null,
   "metadata": {
    "id": "CytMdypSyfLi",
    "outputId": "ea031b62-7748-4f99-edb0-b4d44a204262"
   },
   "outputs": [
    {
     "name": "stdout",
     "output_type": "stream",
     "text": [
      "Mediana opening_ply      : 4.0\n",
      "Media opening_ply        : 4.8169807558081565\n",
      "Moda opening_ply         : 3\n",
      "Desv. Est. opening_ply   : 2.797151810630167\n",
      "Valor mínimo opening_ply : 1\n",
      "Valor máximo opening_ply : 28\n"
     ]
    },
    {
     "data": {
      "text/plain": [
       "count    20058.000000\n",
       "mean         4.816981\n",
       "std          2.797152\n",
       "min          1.000000\n",
       "25%          3.000000\n",
       "50%          4.000000\n",
       "75%          6.000000\n",
       "max         28.000000\n",
       "Name: opening_ply, dtype: float64"
      ]
     },
     "execution_count": 46,
     "metadata": {
      "tags": []
     },
     "output_type": "execute_result"
    }
   ],
   "source": [
    "mediana_opening_ply = data[\"opening_ply\"].median()\n",
    "media_opening_ply  = data[\"opening_ply\"].mean()\n",
    "moda_opening_ply    = data[\"opening_ply\"].mode().max()\n",
    "std_opening_ply     = data[\"opening_ply\"].std()\n",
    "min_opening_ply     = data[\"opening_ply\"].min()\n",
    "max_opening_ply     = data[\"opening_ply\"].max()\n",
    "\n",
    "print(\"Mediana opening_ply      :\",mediana_opening_ply)\n",
    "print(\"Media opening_ply        :\",media_opening_ply)\n",
    "print(\"Moda opening_ply         :\",moda_opening_ply)\n",
    "print(\"Desv. Est. opening_ply   :\",std_opening_ply)\n",
    "print(\"Valor mínimo opening_ply :\",min_opening_ply)\n",
    "print(\"Valor máximo opening_ply :\",max_opening_ply)\n",
    "\n",
    "data[\"opening_ply\"].describe() "
   ]
  },
  {
   "cell_type": "markdown",
   "metadata": {
    "id": "LzCF6QeQyfLj"
   },
   "source": [
    "¿Qué representa? -> La variable \"opening_ply\" nos dice el número de movimientos en la fase inicial del juego."
   ]
  },
  {
   "cell_type": "markdown",
   "metadata": {
    "id": "pNZbPdI6yfLj"
   },
   "source": [
    "Conclusiones -> A partir de estos datos podemos decir que el promedio de movimientos en la fase inicial es de 4 movimientos. A su vez se tiene un valor mínimo de movimientos de 1 y un valor máximo de 28 movimientos en la fase inicial. Se tiene una desviación estandar de solo 2, por lo que podemos decir que se generan entre 2 y 6 movimientos en la fase inicial."
   ]
  }
 ],
 "metadata": {
  "colab": {
   "collapsed_sections": [],
   "name": "Actividad Evaluable Obtencion de estadisticas descriptivas-Copy1.ipynb",
   "provenance": []
  },
  "kernelspec": {
   "display_name": "Python 3",
   "language": "python",
   "name": "python3"
  },
  "language_info": {
   "codemirror_mode": {
    "name": "ipython",
    "version": 3
   },
   "file_extension": ".py",
   "mimetype": "text/x-python",
   "name": "python",
   "nbconvert_exporter": "python",
   "pygments_lexer": "ipython3",
   "version": "3.8.5"
  }
 },
 "nbformat": 4,
 "nbformat_minor": 1
}
