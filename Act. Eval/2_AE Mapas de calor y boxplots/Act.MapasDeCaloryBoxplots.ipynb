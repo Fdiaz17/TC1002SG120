{
 "cells": [
  {
   "cell_type": "markdown",
   "metadata": {},
   "source": [
    "# Actividad Evaluable Mapas de calor y boxplots"
   ]
  },
  {
   "cell_type": "code",
   "execution_count": 37,
   "metadata": {},
   "outputs": [
    {
     "name": "stdout",
     "output_type": "stream",
     "text": [
      "Integrantes Equipo 4\n",
      "\n",
      "Jesús Dassaef López Barrios      A01366815\n",
      "Pablo Enrique Martínez Sánchez   A01706352\n",
      "Carlos Iñaki Román Martinez      A01702712\n"
     ]
    }
   ],
   "source": [
    "print(\"Integrantes Equipo 4\\n\")\n",
    "\n",
    "print(\"Jesús Dassaef López Barrios      A01366815\")\n",
    "print(\"Pablo Enrique Martínez Sánchez   A01706352\")\n",
    "print(\"Carlos Iñaki Román Martinez      A01702712\")"
   ]
  },
  {
   "cell_type": "markdown",
   "metadata": {},
   "source": [
    "Preguntas relevantes\n",
    "------------------------------\n",
    "\n",
    "a) En una partida con un número extenso de movimientos (turns >= 100), ¿con qué color de piezas es más probable ganar?\n",
    "\n",
    "b) En promedio, ¿con qué rating se gana más con negras y con blancas? (general) -> Basándonos en: What allows a player to win as black or white?\n",
    "\n",
    "c) ¿Cuáles son las 5 aperturas con las que se gana más en una pártida con negras y con blancas?\n",
    "\n",
    "d) ¿Con qué color de pieza se gana más?\n",
    "\n",
    "e) ¿Cuál es el estatus de victoria más común?\n"
   ]
  },
  {
   "cell_type": "code",
   "execution_count": 38,
   "metadata": {
    "colab": {
     "base_uri": "https://localhost:8080/"
    },
    "id": "M9ER0NlKbbLc",
    "outputId": "5252162e-4b06-4782-841e-f3708f51160f"
   },
   "outputs": [
    {
     "data": {
      "text/plain": [
       "(20058, 16)"
      ]
     },
     "execution_count": 38,
     "metadata": {},
     "output_type": "execute_result"
    }
   ],
   "source": [
    "import pandas as pd\n",
    "import seaborn as sb\n",
    "import matplotlib.pyplot as plt\n",
    "data = pd.read_csv('gamesChess.csv')\n",
    "import matplotlib as mpl\n",
    "plt.rcParams['figure.figsize'] = (16, 9)\n",
    "plt.style.use('ggplot')\n",
    "# Revisar dimensiones\n",
    "data.shape"
   ]
  },
  {
   "cell_type": "markdown",
   "metadata": {},
   "source": [
    "Número general de datos: 20058\n",
    "Número general de columnas (variables en nuestro caso): 16"
   ]
  },
  {
   "cell_type": "code",
   "execution_count": 39,
   "metadata": {
    "colab": {
     "base_uri": "https://localhost:8080/",
     "height": 1000
    },
    "id": "PkQFWejqcGIf",
    "outputId": "e06c43af-c4c9-4c99-8cb6-7868dd508d1b"
   },
   "outputs": [
    {
     "data": {
      "text/html": [
       "<div>\n",
       "<style scoped>\n",
       "    .dataframe tbody tr th:only-of-type {\n",
       "        vertical-align: middle;\n",
       "    }\n",
       "\n",
       "    .dataframe tbody tr th {\n",
       "        vertical-align: top;\n",
       "    }\n",
       "\n",
       "    .dataframe thead th {\n",
       "        text-align: right;\n",
       "    }\n",
       "</style>\n",
       "<table border=\"1\" class=\"dataframe\">\n",
       "  <thead>\n",
       "    <tr style=\"text-align: right;\">\n",
       "      <th></th>\n",
       "      <th>id</th>\n",
       "      <th>rated</th>\n",
       "      <th>created_at</th>\n",
       "      <th>last_move_at</th>\n",
       "      <th>turns</th>\n",
       "      <th>victory_status</th>\n",
       "      <th>winner</th>\n",
       "      <th>increment_code</th>\n",
       "      <th>white_id</th>\n",
       "      <th>white_rating</th>\n",
       "      <th>black_id</th>\n",
       "      <th>black_rating</th>\n",
       "      <th>moves</th>\n",
       "      <th>opening_eco</th>\n",
       "      <th>opening_name</th>\n",
       "      <th>opening_ply</th>\n",
       "    </tr>\n",
       "  </thead>\n",
       "  <tbody>\n",
       "    <tr>\n",
       "      <th>0</th>\n",
       "      <td>TZJHLljE</td>\n",
       "      <td>False</td>\n",
       "      <td>1.500000e+12</td>\n",
       "      <td>1.500000e+12</td>\n",
       "      <td>13</td>\n",
       "      <td>outoftime</td>\n",
       "      <td>white</td>\n",
       "      <td>15+2</td>\n",
       "      <td>bourgris</td>\n",
       "      <td>1500</td>\n",
       "      <td>a-00</td>\n",
       "      <td>1191</td>\n",
       "      <td>d4 d5 c4 c6 cxd5 e6 dxe6 fxe6 Nf3 Bb4+ Nc3 Ba5...</td>\n",
       "      <td>D10</td>\n",
       "      <td>Slav Defense: Exchange Variation</td>\n",
       "      <td>5</td>\n",
       "    </tr>\n",
       "    <tr>\n",
       "      <th>1</th>\n",
       "      <td>l1NXvwaE</td>\n",
       "      <td>True</td>\n",
       "      <td>1.500000e+12</td>\n",
       "      <td>1.500000e+12</td>\n",
       "      <td>16</td>\n",
       "      <td>resign</td>\n",
       "      <td>black</td>\n",
       "      <td>5+10</td>\n",
       "      <td>a-00</td>\n",
       "      <td>1322</td>\n",
       "      <td>skinnerua</td>\n",
       "      <td>1261</td>\n",
       "      <td>d4 Nc6 e4 e5 f4 f6 dxe5 fxe5 fxe5 Nxe5 Qd4 Nc6...</td>\n",
       "      <td>B00</td>\n",
       "      <td>Nimzowitsch Defense: Kennedy Variation</td>\n",
       "      <td>4</td>\n",
       "    </tr>\n",
       "    <tr>\n",
       "      <th>2</th>\n",
       "      <td>mIICvQHh</td>\n",
       "      <td>True</td>\n",
       "      <td>1.500000e+12</td>\n",
       "      <td>1.500000e+12</td>\n",
       "      <td>61</td>\n",
       "      <td>mate</td>\n",
       "      <td>white</td>\n",
       "      <td>5+10</td>\n",
       "      <td>ischia</td>\n",
       "      <td>1496</td>\n",
       "      <td>a-00</td>\n",
       "      <td>1500</td>\n",
       "      <td>e4 e5 d3 d6 Be3 c6 Be2 b5 Nd2 a5 a4 c5 axb5 Nc...</td>\n",
       "      <td>C20</td>\n",
       "      <td>King's Pawn Game: Leonardis Variation</td>\n",
       "      <td>3</td>\n",
       "    </tr>\n",
       "    <tr>\n",
       "      <th>3</th>\n",
       "      <td>kWKvrqYL</td>\n",
       "      <td>True</td>\n",
       "      <td>1.500000e+12</td>\n",
       "      <td>1.500000e+12</td>\n",
       "      <td>61</td>\n",
       "      <td>mate</td>\n",
       "      <td>white</td>\n",
       "      <td>20+0</td>\n",
       "      <td>daniamurashov</td>\n",
       "      <td>1439</td>\n",
       "      <td>adivanov2009</td>\n",
       "      <td>1454</td>\n",
       "      <td>d4 d5 Nf3 Bf5 Nc3 Nf6 Bf4 Ng4 e3 Nc6 Be2 Qd7 O...</td>\n",
       "      <td>D02</td>\n",
       "      <td>Queen's Pawn Game: Zukertort Variation</td>\n",
       "      <td>3</td>\n",
       "    </tr>\n",
       "    <tr>\n",
       "      <th>4</th>\n",
       "      <td>9tXo1AUZ</td>\n",
       "      <td>True</td>\n",
       "      <td>1.500000e+12</td>\n",
       "      <td>1.500000e+12</td>\n",
       "      <td>95</td>\n",
       "      <td>mate</td>\n",
       "      <td>white</td>\n",
       "      <td>30+3</td>\n",
       "      <td>nik221107</td>\n",
       "      <td>1523</td>\n",
       "      <td>adivanov2009</td>\n",
       "      <td>1469</td>\n",
       "      <td>e4 e5 Nf3 d6 d4 Nc6 d5 Nb4 a3 Na6 Nc3 Be7 b4 N...</td>\n",
       "      <td>C41</td>\n",
       "      <td>Philidor Defense</td>\n",
       "      <td>5</td>\n",
       "    </tr>\n",
       "  </tbody>\n",
       "</table>\n",
       "</div>"
      ],
      "text/plain": [
       "         id  rated    created_at  last_move_at  turns victory_status winner  \\\n",
       "0  TZJHLljE  False  1.500000e+12  1.500000e+12     13      outoftime  white   \n",
       "1  l1NXvwaE   True  1.500000e+12  1.500000e+12     16         resign  black   \n",
       "2  mIICvQHh   True  1.500000e+12  1.500000e+12     61           mate  white   \n",
       "3  kWKvrqYL   True  1.500000e+12  1.500000e+12     61           mate  white   \n",
       "4  9tXo1AUZ   True  1.500000e+12  1.500000e+12     95           mate  white   \n",
       "\n",
       "  increment_code       white_id  white_rating      black_id  black_rating  \\\n",
       "0           15+2       bourgris          1500          a-00          1191   \n",
       "1           5+10           a-00          1322     skinnerua          1261   \n",
       "2           5+10         ischia          1496          a-00          1500   \n",
       "3           20+0  daniamurashov          1439  adivanov2009          1454   \n",
       "4           30+3      nik221107          1523  adivanov2009          1469   \n",
       "\n",
       "                                               moves opening_eco  \\\n",
       "0  d4 d5 c4 c6 cxd5 e6 dxe6 fxe6 Nf3 Bb4+ Nc3 Ba5...         D10   \n",
       "1  d4 Nc6 e4 e5 f4 f6 dxe5 fxe5 fxe5 Nxe5 Qd4 Nc6...         B00   \n",
       "2  e4 e5 d3 d6 Be3 c6 Be2 b5 Nd2 a5 a4 c5 axb5 Nc...         C20   \n",
       "3  d4 d5 Nf3 Bf5 Nc3 Nf6 Bf4 Ng4 e3 Nc6 Be2 Qd7 O...         D02   \n",
       "4  e4 e5 Nf3 d6 d4 Nc6 d5 Nb4 a3 Na6 Nc3 Be7 b4 N...         C41   \n",
       "\n",
       "                             opening_name  opening_ply  \n",
       "0        Slav Defense: Exchange Variation            5  \n",
       "1  Nimzowitsch Defense: Kennedy Variation            4  \n",
       "2   King's Pawn Game: Leonardis Variation            3  \n",
       "3  Queen's Pawn Game: Zukertort Variation            3  \n",
       "4                        Philidor Defense            5  "
      ]
     },
     "execution_count": 39,
     "metadata": {},
     "output_type": "execute_result"
    }
   ],
   "source": [
    "data.head() # Mostrar el inicio de los datos generales"
   ]
  },
  {
   "cell_type": "code",
   "execution_count": 40,
   "metadata": {
    "colab": {
     "base_uri": "https://localhost:8080/",
     "height": 297
    },
    "id": "pyyejD_2dCTc",
    "outputId": "28a24bd3-e0a3-4bcc-e10d-10a085f7a190"
   },
   "outputs": [
    {
     "data": {
      "text/html": [
       "<div>\n",
       "<style scoped>\n",
       "    .dataframe tbody tr th:only-of-type {\n",
       "        vertical-align: middle;\n",
       "    }\n",
       "\n",
       "    .dataframe tbody tr th {\n",
       "        vertical-align: top;\n",
       "    }\n",
       "\n",
       "    .dataframe thead th {\n",
       "        text-align: right;\n",
       "    }\n",
       "</style>\n",
       "<table border=\"1\" class=\"dataframe\">\n",
       "  <thead>\n",
       "    <tr style=\"text-align: right;\">\n",
       "      <th></th>\n",
       "      <th>created_at</th>\n",
       "      <th>last_move_at</th>\n",
       "      <th>turns</th>\n",
       "      <th>white_rating</th>\n",
       "      <th>black_rating</th>\n",
       "      <th>opening_ply</th>\n",
       "    </tr>\n",
       "  </thead>\n",
       "  <tbody>\n",
       "    <tr>\n",
       "      <th>count</th>\n",
       "      <td>2.005800e+04</td>\n",
       "      <td>2.005800e+04</td>\n",
       "      <td>20058.000000</td>\n",
       "      <td>20058.000000</td>\n",
       "      <td>20058.000000</td>\n",
       "      <td>20058.000000</td>\n",
       "    </tr>\n",
       "    <tr>\n",
       "      <th>mean</th>\n",
       "      <td>1.483208e+12</td>\n",
       "      <td>1.483208e+12</td>\n",
       "      <td>60.465999</td>\n",
       "      <td>1596.631868</td>\n",
       "      <td>1588.831987</td>\n",
       "      <td>4.816981</td>\n",
       "    </tr>\n",
       "    <tr>\n",
       "      <th>std</th>\n",
       "      <td>2.831972e+10</td>\n",
       "      <td>2.831967e+10</td>\n",
       "      <td>33.570585</td>\n",
       "      <td>291.253376</td>\n",
       "      <td>291.036126</td>\n",
       "      <td>2.797152</td>\n",
       "    </tr>\n",
       "    <tr>\n",
       "      <th>min</th>\n",
       "      <td>1.376770e+12</td>\n",
       "      <td>1.376770e+12</td>\n",
       "      <td>1.000000</td>\n",
       "      <td>784.000000</td>\n",
       "      <td>789.000000</td>\n",
       "      <td>1.000000</td>\n",
       "    </tr>\n",
       "    <tr>\n",
       "      <th>25%</th>\n",
       "      <td>1.479640e+12</td>\n",
       "      <td>1.479642e+12</td>\n",
       "      <td>37.000000</td>\n",
       "      <td>1398.000000</td>\n",
       "      <td>1391.000000</td>\n",
       "      <td>3.000000</td>\n",
       "    </tr>\n",
       "    <tr>\n",
       "      <th>50%</th>\n",
       "      <td>1.497030e+12</td>\n",
       "      <td>1.497030e+12</td>\n",
       "      <td>55.000000</td>\n",
       "      <td>1567.000000</td>\n",
       "      <td>1562.000000</td>\n",
       "      <td>4.000000</td>\n",
       "    </tr>\n",
       "    <tr>\n",
       "      <th>75%</th>\n",
       "      <td>1.500708e+12</td>\n",
       "      <td>1.500708e+12</td>\n",
       "      <td>79.000000</td>\n",
       "      <td>1793.000000</td>\n",
       "      <td>1784.000000</td>\n",
       "      <td>6.000000</td>\n",
       "    </tr>\n",
       "    <tr>\n",
       "      <th>max</th>\n",
       "      <td>1.504490e+12</td>\n",
       "      <td>1.504490e+12</td>\n",
       "      <td>349.000000</td>\n",
       "      <td>2700.000000</td>\n",
       "      <td>2723.000000</td>\n",
       "      <td>28.000000</td>\n",
       "    </tr>\n",
       "  </tbody>\n",
       "</table>\n",
       "</div>"
      ],
      "text/plain": [
       "         created_at  last_move_at         turns  white_rating  black_rating  \\\n",
       "count  2.005800e+04  2.005800e+04  20058.000000  20058.000000  20058.000000   \n",
       "mean   1.483208e+12  1.483208e+12     60.465999   1596.631868   1588.831987   \n",
       "std    2.831972e+10  2.831967e+10     33.570585    291.253376    291.036126   \n",
       "min    1.376770e+12  1.376770e+12      1.000000    784.000000    789.000000   \n",
       "25%    1.479640e+12  1.479642e+12     37.000000   1398.000000   1391.000000   \n",
       "50%    1.497030e+12  1.497030e+12     55.000000   1567.000000   1562.000000   \n",
       "75%    1.500708e+12  1.500708e+12     79.000000   1793.000000   1784.000000   \n",
       "max    1.504490e+12  1.504490e+12    349.000000   2700.000000   2723.000000   \n",
       "\n",
       "        opening_ply  \n",
       "count  20058.000000  \n",
       "mean       4.816981  \n",
       "std        2.797152  \n",
       "min        1.000000  \n",
       "25%        3.000000  \n",
       "50%        4.000000  \n",
       "75%        6.000000  \n",
       "max       28.000000  "
      ]
     },
     "execution_count": 40,
     "metadata": {},
     "output_type": "execute_result"
    }
   ],
   "source": [
    "data.describe() # Descripción general de parámetros estadísticos"
   ]
  },
  {
   "cell_type": "markdown",
   "metadata": {},
   "source": [
    "# Visualización general"
   ]
  },
  {
   "cell_type": "code",
   "execution_count": 41,
   "metadata": {
    "colab": {
     "base_uri": "https://localhost:8080/",
     "height": 971
    },
    "id": "6xERAzovdJGB",
    "outputId": "6418394f-f829-47e9-b134-e59cb5ab8e0e"
   },
   "outputs": [
    {
     "data": {
      "text/html": [
       "<div>\n",
       "<style scoped>\n",
       "    .dataframe tbody tr th:only-of-type {\n",
       "        vertical-align: middle;\n",
       "    }\n",
       "\n",
       "    .dataframe tbody tr th {\n",
       "        vertical-align: top;\n",
       "    }\n",
       "\n",
       "    .dataframe thead th {\n",
       "        text-align: right;\n",
       "    }\n",
       "</style>\n",
       "<table border=\"1\" class=\"dataframe\">\n",
       "  <thead>\n",
       "    <tr style=\"text-align: right;\">\n",
       "      <th></th>\n",
       "      <th>rated</th>\n",
       "      <th>turns</th>\n",
       "      <th>victory_status</th>\n",
       "      <th>winner</th>\n",
       "      <th>white_rating</th>\n",
       "      <th>black_rating</th>\n",
       "      <th>opening_name</th>\n",
       "      <th>opening_ply</th>\n",
       "    </tr>\n",
       "  </thead>\n",
       "  <tbody>\n",
       "    <tr>\n",
       "      <th>0</th>\n",
       "      <td>False</td>\n",
       "      <td>13</td>\n",
       "      <td>outoftime</td>\n",
       "      <td>white</td>\n",
       "      <td>1500</td>\n",
       "      <td>1191</td>\n",
       "      <td>Slav Defense: Exchange Variation</td>\n",
       "      <td>5</td>\n",
       "    </tr>\n",
       "    <tr>\n",
       "      <th>1</th>\n",
       "      <td>True</td>\n",
       "      <td>16</td>\n",
       "      <td>resign</td>\n",
       "      <td>black</td>\n",
       "      <td>1322</td>\n",
       "      <td>1261</td>\n",
       "      <td>Nimzowitsch Defense: Kennedy Variation</td>\n",
       "      <td>4</td>\n",
       "    </tr>\n",
       "    <tr>\n",
       "      <th>2</th>\n",
       "      <td>True</td>\n",
       "      <td>61</td>\n",
       "      <td>mate</td>\n",
       "      <td>white</td>\n",
       "      <td>1496</td>\n",
       "      <td>1500</td>\n",
       "      <td>King's Pawn Game: Leonardis Variation</td>\n",
       "      <td>3</td>\n",
       "    </tr>\n",
       "    <tr>\n",
       "      <th>3</th>\n",
       "      <td>True</td>\n",
       "      <td>61</td>\n",
       "      <td>mate</td>\n",
       "      <td>white</td>\n",
       "      <td>1439</td>\n",
       "      <td>1454</td>\n",
       "      <td>Queen's Pawn Game: Zukertort Variation</td>\n",
       "      <td>3</td>\n",
       "    </tr>\n",
       "    <tr>\n",
       "      <th>4</th>\n",
       "      <td>True</td>\n",
       "      <td>95</td>\n",
       "      <td>mate</td>\n",
       "      <td>white</td>\n",
       "      <td>1523</td>\n",
       "      <td>1469</td>\n",
       "      <td>Philidor Defense</td>\n",
       "      <td>5</td>\n",
       "    </tr>\n",
       "    <tr>\n",
       "      <th>...</th>\n",
       "      <td>...</td>\n",
       "      <td>...</td>\n",
       "      <td>...</td>\n",
       "      <td>...</td>\n",
       "      <td>...</td>\n",
       "      <td>...</td>\n",
       "      <td>...</td>\n",
       "      <td>...</td>\n",
       "    </tr>\n",
       "    <tr>\n",
       "      <th>20053</th>\n",
       "      <td>True</td>\n",
       "      <td>24</td>\n",
       "      <td>resign</td>\n",
       "      <td>white</td>\n",
       "      <td>1691</td>\n",
       "      <td>1220</td>\n",
       "      <td>Dutch Defense</td>\n",
       "      <td>2</td>\n",
       "    </tr>\n",
       "    <tr>\n",
       "      <th>20054</th>\n",
       "      <td>True</td>\n",
       "      <td>82</td>\n",
       "      <td>mate</td>\n",
       "      <td>black</td>\n",
       "      <td>1233</td>\n",
       "      <td>1196</td>\n",
       "      <td>Queen's Pawn</td>\n",
       "      <td>2</td>\n",
       "    </tr>\n",
       "    <tr>\n",
       "      <th>20055</th>\n",
       "      <td>True</td>\n",
       "      <td>35</td>\n",
       "      <td>mate</td>\n",
       "      <td>white</td>\n",
       "      <td>1219</td>\n",
       "      <td>1286</td>\n",
       "      <td>Queen's Pawn Game: Mason Attack</td>\n",
       "      <td>3</td>\n",
       "    </tr>\n",
       "    <tr>\n",
       "      <th>20056</th>\n",
       "      <td>True</td>\n",
       "      <td>109</td>\n",
       "      <td>resign</td>\n",
       "      <td>white</td>\n",
       "      <td>1360</td>\n",
       "      <td>1227</td>\n",
       "      <td>Pirc Defense</td>\n",
       "      <td>4</td>\n",
       "    </tr>\n",
       "    <tr>\n",
       "      <th>20057</th>\n",
       "      <td>True</td>\n",
       "      <td>78</td>\n",
       "      <td>mate</td>\n",
       "      <td>black</td>\n",
       "      <td>1235</td>\n",
       "      <td>1339</td>\n",
       "      <td>Queen's Pawn Game: Mason Attack</td>\n",
       "      <td>3</td>\n",
       "    </tr>\n",
       "  </tbody>\n",
       "</table>\n",
       "<p>20058 rows × 8 columns</p>\n",
       "</div>"
      ],
      "text/plain": [
       "       rated  turns victory_status winner  white_rating  black_rating  \\\n",
       "0      False     13      outoftime  white          1500          1191   \n",
       "1       True     16         resign  black          1322          1261   \n",
       "2       True     61           mate  white          1496          1500   \n",
       "3       True     61           mate  white          1439          1454   \n",
       "4       True     95           mate  white          1523          1469   \n",
       "...      ...    ...            ...    ...           ...           ...   \n",
       "20053   True     24         resign  white          1691          1220   \n",
       "20054   True     82           mate  black          1233          1196   \n",
       "20055   True     35           mate  white          1219          1286   \n",
       "20056   True    109         resign  white          1360          1227   \n",
       "20057   True     78           mate  black          1235          1339   \n",
       "\n",
       "                                 opening_name  opening_ply  \n",
       "0            Slav Defense: Exchange Variation            5  \n",
       "1      Nimzowitsch Defense: Kennedy Variation            4  \n",
       "2       King's Pawn Game: Leonardis Variation            3  \n",
       "3      Queen's Pawn Game: Zukertort Variation            3  \n",
       "4                            Philidor Defense            5  \n",
       "...                                       ...          ...  \n",
       "20053                           Dutch Defense            2  \n",
       "20054                            Queen's Pawn            2  \n",
       "20055         Queen's Pawn Game: Mason Attack            3  \n",
       "20056                            Pirc Defense            4  \n",
       "20057         Queen's Pawn Game: Mason Attack            3  \n",
       "\n",
       "[20058 rows x 8 columns]"
      ]
     },
     "execution_count": 41,
     "metadata": {},
     "output_type": "execute_result"
    }
   ],
   "source": [
    "df_f0 = data.drop(columns=['id','created_at','last_move_at','increment_code','white_id','black_id','moves','opening_eco'])\n",
    "df_f0"
   ]
  },
  {
   "cell_type": "markdown",
   "metadata": {},
   "source": [
    "Eliminamos las columnas que contienen las variables que no nos interesan analizar."
   ]
  },
  {
   "cell_type": "code",
   "execution_count": 42,
   "metadata": {},
   "outputs": [
    {
     "data": {
      "image/png": "[encoded data removed]",
      "text/plain": [
       "<Figure size 1152x648 with 4 Axes>"
      ]
     },
     "metadata": {},
     "output_type": "display_data"
    }
   ],
   "source": [
    "df_f0.drop(columns=['victory_status','winner','opening_name','rated']).hist()\n",
    "plt.show()"
   ]
  },
  {
   "cell_type": "markdown",
   "metadata": {},
   "source": [
    "Impresiones de histogramas generales"
   ]
  },
  {
   "cell_type": "markdown",
   "metadata": {},
   "source": [
    "# Mapas de calor y boxplots"
   ]
  },
  {
   "cell_type": "code",
   "execution_count": 43,
   "metadata": {},
   "outputs": [
    {
     "data": {
      "text/html": [
       "<div>\n",
       "<style scoped>\n",
       "    .dataframe tbody tr th:only-of-type {\n",
       "        vertical-align: middle;\n",
       "    }\n",
       "\n",
       "    .dataframe tbody tr th {\n",
       "        vertical-align: top;\n",
       "    }\n",
       "\n",
       "    .dataframe thead th {\n",
       "        text-align: right;\n",
       "    }\n",
       "</style>\n",
       "<table border=\"1\" class=\"dataframe\">\n",
       "  <thead>\n",
       "    <tr style=\"text-align: right;\">\n",
       "      <th></th>\n",
       "      <th>turns</th>\n",
       "    </tr>\n",
       "  </thead>\n",
       "  <tbody>\n",
       "    <tr>\n",
       "      <th>0</th>\n",
       "      <td>13</td>\n",
       "    </tr>\n",
       "    <tr>\n",
       "      <th>1</th>\n",
       "      <td>16</td>\n",
       "    </tr>\n",
       "    <tr>\n",
       "      <th>2</th>\n",
       "      <td>61</td>\n",
       "    </tr>\n",
       "    <tr>\n",
       "      <th>3</th>\n",
       "      <td>61</td>\n",
       "    </tr>\n",
       "    <tr>\n",
       "      <th>4</th>\n",
       "      <td>95</td>\n",
       "    </tr>\n",
       "    <tr>\n",
       "      <th>...</th>\n",
       "      <td>...</td>\n",
       "    </tr>\n",
       "    <tr>\n",
       "      <th>20053</th>\n",
       "      <td>24</td>\n",
       "    </tr>\n",
       "    <tr>\n",
       "      <th>20054</th>\n",
       "      <td>82</td>\n",
       "    </tr>\n",
       "    <tr>\n",
       "      <th>20055</th>\n",
       "      <td>35</td>\n",
       "    </tr>\n",
       "    <tr>\n",
       "      <th>20056</th>\n",
       "      <td>109</td>\n",
       "    </tr>\n",
       "    <tr>\n",
       "      <th>20057</th>\n",
       "      <td>78</td>\n",
       "    </tr>\n",
       "  </tbody>\n",
       "</table>\n",
       "<p>20058 rows × 1 columns</p>\n",
       "</div>"
      ],
      "text/plain": [
       "       turns\n",
       "0         13\n",
       "1         16\n",
       "2         61\n",
       "3         61\n",
       "4         95\n",
       "...      ...\n",
       "20053     24\n",
       "20054     82\n",
       "20055     35\n",
       "20056    109\n",
       "20057     78\n",
       "\n",
       "[20058 rows x 1 columns]"
      ]
     },
     "execution_count": 43,
     "metadata": {},
     "output_type": "execute_result"
    }
   ],
   "source": [
    "df_1 = df_f0.drop(columns=['rated','victory_status','winner','white_rating','black_rating','opening_name','opening_ply'])\n",
    "df_1"
   ]
  },
  {
   "cell_type": "code",
   "execution_count": 44,
   "metadata": {},
   "outputs": [
    {
     "name": "stdout",
     "output_type": "stream",
     "text": [
      "Mediana turns      : 55.0\n",
      "Media turns        : 60.46599860404826\n",
      "Moda turns         : 53\n",
      "Desv. Est. turns   : 33.570584753537055\n",
      "Valor mínimo turns : 1\n",
      "Valor máximo turns : 349\n"
     ]
    },
    {
     "data": {
      "text/plain": [
       "count    20058.000000\n",
       "mean        60.465999\n",
       "std         33.570585\n",
       "min          1.000000\n",
       "25%         37.000000\n",
       "50%         55.000000\n",
       "75%         79.000000\n",
       "max        349.000000\n",
       "Name: turns, dtype: float64"
      ]
     },
     "execution_count": 44,
     "metadata": {},
     "output_type": "execute_result"
    }
   ],
   "source": [
    "mediana_turns = df_1[\"turns\"].median()\n",
    "media_turns   = df_1[\"turns\"].mean()\n",
    "moda_turns    = df_1[\"turns\"].mode().max()\n",
    "std_turns     = df_1[\"turns\"].std()\n",
    "min_turns     = df_1[\"turns\"].min()\n",
    "max_turns     = df_1[\"turns\"].max()\n",
    "\n",
    "print(\"Mediana turns      :\",mediana_turns)\n",
    "print(\"Media turns        :\",media_turns)\n",
    "print(\"Moda turns         :\",moda_turns)\n",
    "print(\"Desv. Est. turns   :\",std_turns)\n",
    "print(\"Valor mínimo turns :\",min_turns)\n",
    "print(\"Valor máximo turns :\",max_turns)\n",
    "\n",
    "df_1[\"turns\"].describe()"
   ]
  },
  {
   "cell_type": "code",
   "execution_count": 45,
   "metadata": {},
   "outputs": [
    {
     "data": {
      "image/png": "[encoded data removed]",
      "text/plain": [
       "<Figure size 1152x648 with 1 Axes>"
      ]
     },
     "metadata": {},
     "output_type": "display_data"
    }
   ],
   "source": [
    "sb.set_theme(style=\"whitegrid\")\n",
    "ax_turns = sb.boxplot(x=df_1[\"turns\"])"
   ]
  },
  {
   "cell_type": "markdown",
   "metadata": {},
   "source": [
    "En conclusión podemos decir que hay un promedio de 60 movimientos por partida de ajedrez."
   ]
  },
  {
   "cell_type": "code",
   "execution_count": 46,
   "metadata": {},
   "outputs": [
    {
     "data": {
      "text/html": [
       "<div>\n",
       "<style scoped>\n",
       "    .dataframe tbody tr th:only-of-type {\n",
       "        vertical-align: middle;\n",
       "    }\n",
       "\n",
       "    .dataframe tbody tr th {\n",
       "        vertical-align: top;\n",
       "    }\n",
       "\n",
       "    .dataframe thead th {\n",
       "        text-align: right;\n",
       "    }\n",
       "</style>\n",
       "<table border=\"1\" class=\"dataframe\">\n",
       "  <thead>\n",
       "    <tr style=\"text-align: right;\">\n",
       "      <th></th>\n",
       "      <th>turns</th>\n",
       "      <th>white_rating</th>\n",
       "      <th>black_rating</th>\n",
       "      <th>opening_ply</th>\n",
       "    </tr>\n",
       "  </thead>\n",
       "  <tbody>\n",
       "    <tr>\n",
       "      <th>0</th>\n",
       "      <td>13</td>\n",
       "      <td>1500</td>\n",
       "      <td>1191</td>\n",
       "      <td>5</td>\n",
       "    </tr>\n",
       "    <tr>\n",
       "      <th>1</th>\n",
       "      <td>16</td>\n",
       "      <td>1322</td>\n",
       "      <td>1261</td>\n",
       "      <td>4</td>\n",
       "    </tr>\n",
       "    <tr>\n",
       "      <th>2</th>\n",
       "      <td>61</td>\n",
       "      <td>1496</td>\n",
       "      <td>1500</td>\n",
       "      <td>3</td>\n",
       "    </tr>\n",
       "    <tr>\n",
       "      <th>3</th>\n",
       "      <td>61</td>\n",
       "      <td>1439</td>\n",
       "      <td>1454</td>\n",
       "      <td>3</td>\n",
       "    </tr>\n",
       "    <tr>\n",
       "      <th>4</th>\n",
       "      <td>95</td>\n",
       "      <td>1523</td>\n",
       "      <td>1469</td>\n",
       "      <td>5</td>\n",
       "    </tr>\n",
       "    <tr>\n",
       "      <th>...</th>\n",
       "      <td>...</td>\n",
       "      <td>...</td>\n",
       "      <td>...</td>\n",
       "      <td>...</td>\n",
       "    </tr>\n",
       "    <tr>\n",
       "      <th>20053</th>\n",
       "      <td>24</td>\n",
       "      <td>1691</td>\n",
       "      <td>1220</td>\n",
       "      <td>2</td>\n",
       "    </tr>\n",
       "    <tr>\n",
       "      <th>20054</th>\n",
       "      <td>82</td>\n",
       "      <td>1233</td>\n",
       "      <td>1196</td>\n",
       "      <td>2</td>\n",
       "    </tr>\n",
       "    <tr>\n",
       "      <th>20055</th>\n",
       "      <td>35</td>\n",
       "      <td>1219</td>\n",
       "      <td>1286</td>\n",
       "      <td>3</td>\n",
       "    </tr>\n",
       "    <tr>\n",
       "      <th>20056</th>\n",
       "      <td>109</td>\n",
       "      <td>1360</td>\n",
       "      <td>1227</td>\n",
       "      <td>4</td>\n",
       "    </tr>\n",
       "    <tr>\n",
       "      <th>20057</th>\n",
       "      <td>78</td>\n",
       "      <td>1235</td>\n",
       "      <td>1339</td>\n",
       "      <td>3</td>\n",
       "    </tr>\n",
       "  </tbody>\n",
       "</table>\n",
       "<p>20058 rows × 4 columns</p>\n",
       "</div>"
      ],
      "text/plain": [
       "       turns  white_rating  black_rating  opening_ply\n",
       "0         13          1500          1191            5\n",
       "1         16          1322          1261            4\n",
       "2         61          1496          1500            3\n",
       "3         61          1439          1454            3\n",
       "4         95          1523          1469            5\n",
       "...      ...           ...           ...          ...\n",
       "20053     24          1691          1220            2\n",
       "20054     82          1233          1196            2\n",
       "20055     35          1219          1286            3\n",
       "20056    109          1360          1227            4\n",
       "20057     78          1235          1339            3\n",
       "\n",
       "[20058 rows x 4 columns]"
      ]
     },
     "execution_count": 46,
     "metadata": {},
     "output_type": "execute_result"
    }
   ],
   "source": [
    "df_2 = df_f0.drop(columns=['rated','victory_status','winner','opening_name',])\n",
    "df_2"
   ]
  },
  {
   "cell_type": "code",
   "execution_count": 47,
   "metadata": {},
   "outputs": [
    {
     "data": {
      "text/html": [
       "<div>\n",
       "<style scoped>\n",
       "    .dataframe tbody tr th:only-of-type {\n",
       "        vertical-align: middle;\n",
       "    }\n",
       "\n",
       "    .dataframe tbody tr th {\n",
       "        vertical-align: top;\n",
       "    }\n",
       "\n",
       "    .dataframe thead th {\n",
       "        text-align: right;\n",
       "    }\n",
       "</style>\n",
       "<table border=\"1\" class=\"dataframe\">\n",
       "  <thead>\n",
       "    <tr style=\"text-align: right;\">\n",
       "      <th></th>\n",
       "      <th>turns</th>\n",
       "      <th>white_rating</th>\n",
       "      <th>black_rating</th>\n",
       "      <th>opening_ply</th>\n",
       "    </tr>\n",
       "  </thead>\n",
       "  <tbody>\n",
       "    <tr>\n",
       "      <th>turns</th>\n",
       "      <td>1.000000</td>\n",
       "      <td>0.129753</td>\n",
       "      <td>0.160467</td>\n",
       "      <td>0.055999</td>\n",
       "    </tr>\n",
       "    <tr>\n",
       "      <th>white_rating</th>\n",
       "      <td>0.129753</td>\n",
       "      <td>1.000000</td>\n",
       "      <td>0.634171</td>\n",
       "      <td>0.277379</td>\n",
       "    </tr>\n",
       "    <tr>\n",
       "      <th>black_rating</th>\n",
       "      <td>0.160467</td>\n",
       "      <td>0.634171</td>\n",
       "      <td>1.000000</td>\n",
       "      <td>0.255396</td>\n",
       "    </tr>\n",
       "    <tr>\n",
       "      <th>opening_ply</th>\n",
       "      <td>0.055999</td>\n",
       "      <td>0.277379</td>\n",
       "      <td>0.255396</td>\n",
       "      <td>1.000000</td>\n",
       "    </tr>\n",
       "  </tbody>\n",
       "</table>\n",
       "</div>"
      ],
      "text/plain": [
       "                 turns  white_rating  black_rating  opening_ply\n",
       "turns         1.000000      0.129753      0.160467     0.055999\n",
       "white_rating  0.129753      1.000000      0.634171     0.277379\n",
       "black_rating  0.160467      0.634171      1.000000     0.255396\n",
       "opening_ply   0.055999      0.277379      0.255396     1.000000"
      ]
     },
     "execution_count": 47,
     "metadata": {},
     "output_type": "execute_result"
    }
   ],
   "source": [
    "df_2.corr(method= 'pearson')"
   ]
  },
  {
   "cell_type": "code",
   "execution_count": 48,
   "metadata": {},
   "outputs": [
    {
     "data": {
      "image/png": "[encoded data removed]",
      "text/plain": [
       "<Figure size 864x864 with 2 Axes>"
      ]
     },
     "metadata": {},
     "output_type": "display_data"
    }
   ],
   "source": [
    "colormap = plt.cm.viridis\n",
    "plt.figure(figsize=(12,12))\n",
    "plt.title('Pearson Correlation of Features', y=1.05, size=15)\n",
    "sb.heatmap(df_2.astype(float).corr(),linewidths=0.1, square=True, cmap=colormap, linecolor='white', annot=True);"
   ]
  },
  {
   "cell_type": "markdown",
   "metadata": {},
   "source": [
    "En conclusión, el mapa de calor nos permite observar la relacón entre las variables que permiten conseguir una victoria en una partida de ajedrez."
   ]
  },
  {
   "cell_type": "markdown",
   "metadata": {},
   "source": [
    "¿Hay alguna variable que no aporta información?\n",
    "----------------------------------------------------------------------\n",
    "\n",
    "En nuestro caso, estas son las variables/columnas de nuestra base de datos:\n",
    "\n",
    "(id\trated\tcreated_at\tlast_move_at\tturns\tvictory_status\twinner\tincrement_code\twhite_id\twhite_rating\tblack_id\tblack_rating\tmoves\topening_eco\topening_name\topening_ply)\n",
    "\n",
    "De acuerdo a los resultados arrojados por los análisis encontramos que el [id], [created at], [last_move_at], [increment_code], [white_id],  [black_id], [moves], [opening_eco] y [opening_ply] no son variables que necesitemos o afecten directamente nuestro análisis (no son requeridas o no aportan información relevante).\n",
    "\n",
    "Si tuvieras que eliminar variables, ¿cuáles quitarías y por qué?\n",
    "---------------------------------------------------------------------------------\n",
    "\n",
    "De igual forma, encontramos que las variables mencionadas en la pregunta anterior no aportan información de acuerdo al análisis o simplemente no son relevantes para lo que queremos responder en las preguntas finales (reto).\n",
    "\n",
    "¿Existen variables que tengan datos extraños?\n",
    "------------------------------------------------------------------------\n",
    "\n",
    "En nuestro caso, serían las siguientes variables: [created at] y [last_move_at].\n",
    "\n",
    "Consideramos estas variables cómo extrañas, pues no pudimos interpretar correctamente sus valores para incluirlas en el análisis.\n",
    "\n",
    "Si comparas las variables, ¿todas están en rangos similares? ¿Crees que esto afecte?\n",
    "------------------------------------------------------------------------\n",
    "\n",
    "En realidad, todas nuestras variables/columnnas tienen tipos de datos distintos: float, integer, bool, texto (variable en formato); sin embargo, sí podemos realizar todo tipo de análisis si los renombramos y reinterpretamos.\n",
    "\n",
    "¿Puedes encontrar grupos qué se parezcan? ¿Qué grupos son estos?\n",
    "------------------------------------------------------------------------\n",
    "\n",
    "Debido a que los tipos de datos son muy específicos, es entonces que podemos agrupar los tipos de datos de texto binario (reinterpretarlos y convertirlos a int o float) con otras variables de tipo numérico por ejemplo. Simplemente hay que observar las relaciones que planteamos para responder las preguntas del reto para darnos cuenta que cualquier variable se puede asociar con otra si es que las interpretamos correctamente.\n",
    "\n",
    "Otros ejemplos:\n",
    "\n",
    "- turns y winner\n",
    "- winner, white_rating y black_rating\n",
    "- winner y opening_name\n",
    "\n",
    "Entre otras.\n"
   ]
  },
  {
   "cell_type": "markdown",
   "metadata": {},
   "source": [
    "# Respuesta de preguntas"
   ]
  },
  {
   "cell_type": "markdown",
   "metadata": {},
   "source": [
    "## a) En una partida con un número extenso de movimientos (turns >= 100), ¿con qué color de piezas es más probable ganar?"
   ]
  },
  {
   "cell_type": "code",
   "execution_count": 49,
   "metadata": {},
   "outputs": [
    {
     "data": {
      "text/html": [
       "<div>\n",
       "<style scoped>\n",
       "    .dataframe tbody tr th:only-of-type {\n",
       "        vertical-align: middle;\n",
       "    }\n",
       "\n",
       "    .dataframe tbody tr th {\n",
       "        vertical-align: top;\n",
       "    }\n",
       "\n",
       "    .dataframe thead th {\n",
       "        text-align: right;\n",
       "    }\n",
       "</style>\n",
       "<table border=\"1\" class=\"dataframe\">\n",
       "  <thead>\n",
       "    <tr style=\"text-align: right;\">\n",
       "      <th></th>\n",
       "      <th>turns</th>\n",
       "      <th>winner</th>\n",
       "    </tr>\n",
       "  </thead>\n",
       "  <tbody>\n",
       "    <tr>\n",
       "      <th>0</th>\n",
       "      <td>13</td>\n",
       "      <td>white</td>\n",
       "    </tr>\n",
       "    <tr>\n",
       "      <th>1</th>\n",
       "      <td>16</td>\n",
       "      <td>black</td>\n",
       "    </tr>\n",
       "    <tr>\n",
       "      <th>2</th>\n",
       "      <td>61</td>\n",
       "      <td>white</td>\n",
       "    </tr>\n",
       "    <tr>\n",
       "      <th>3</th>\n",
       "      <td>61</td>\n",
       "      <td>white</td>\n",
       "    </tr>\n",
       "    <tr>\n",
       "      <th>4</th>\n",
       "      <td>95</td>\n",
       "      <td>white</td>\n",
       "    </tr>\n",
       "    <tr>\n",
       "      <th>...</th>\n",
       "      <td>...</td>\n",
       "      <td>...</td>\n",
       "    </tr>\n",
       "    <tr>\n",
       "      <th>20053</th>\n",
       "      <td>24</td>\n",
       "      <td>white</td>\n",
       "    </tr>\n",
       "    <tr>\n",
       "      <th>20054</th>\n",
       "      <td>82</td>\n",
       "      <td>black</td>\n",
       "    </tr>\n",
       "    <tr>\n",
       "      <th>20055</th>\n",
       "      <td>35</td>\n",
       "      <td>white</td>\n",
       "    </tr>\n",
       "    <tr>\n",
       "      <th>20056</th>\n",
       "      <td>109</td>\n",
       "      <td>white</td>\n",
       "    </tr>\n",
       "    <tr>\n",
       "      <th>20057</th>\n",
       "      <td>78</td>\n",
       "      <td>black</td>\n",
       "    </tr>\n",
       "  </tbody>\n",
       "</table>\n",
       "<p>20058 rows × 2 columns</p>\n",
       "</div>"
      ],
      "text/plain": [
       "       turns winner\n",
       "0         13  white\n",
       "1         16  black\n",
       "2         61  white\n",
       "3         61  white\n",
       "4         95  white\n",
       "...      ...    ...\n",
       "20053     24  white\n",
       "20054     82  black\n",
       "20055     35  white\n",
       "20056    109  white\n",
       "20057     78  black\n",
       "\n",
       "[20058 rows x 2 columns]"
      ]
     },
     "execution_count": 49,
     "metadata": {},
     "output_type": "execute_result"
    }
   ],
   "source": [
    "df_a = df_f0.drop(columns=['rated','victory_status','white_rating','black_rating','opening_name','opening_ply'])\n",
    "df_a"
   ]
  },
  {
   "cell_type": "code",
   "execution_count": 50,
   "metadata": {},
   "outputs": [
    {
     "data": {
      "text/html": [
       "<div>\n",
       "<style scoped>\n",
       "    .dataframe tbody tr th:only-of-type {\n",
       "        vertical-align: middle;\n",
       "    }\n",
       "\n",
       "    .dataframe tbody tr th {\n",
       "        vertical-align: top;\n",
       "    }\n",
       "\n",
       "    .dataframe thead th {\n",
       "        text-align: right;\n",
       "    }\n",
       "</style>\n",
       "<table border=\"1\" class=\"dataframe\">\n",
       "  <thead>\n",
       "    <tr style=\"text-align: right;\">\n",
       "      <th></th>\n",
       "      <th>turns</th>\n",
       "      <th>winner</th>\n",
       "    </tr>\n",
       "  </thead>\n",
       "  <tbody>\n",
       "    <tr>\n",
       "      <th>9</th>\n",
       "      <td>119</td>\n",
       "      <td>white</td>\n",
       "    </tr>\n",
       "    <tr>\n",
       "      <th>18</th>\n",
       "      <td>101</td>\n",
       "      <td>black</td>\n",
       "    </tr>\n",
       "    <tr>\n",
       "      <th>76</th>\n",
       "      <td>131</td>\n",
       "      <td>white</td>\n",
       "    </tr>\n",
       "    <tr>\n",
       "      <th>85</th>\n",
       "      <td>114</td>\n",
       "      <td>white</td>\n",
       "    </tr>\n",
       "    <tr>\n",
       "      <th>98</th>\n",
       "      <td>113</td>\n",
       "      <td>draw</td>\n",
       "    </tr>\n",
       "    <tr>\n",
       "      <th>...</th>\n",
       "      <td>...</td>\n",
       "      <td>...</td>\n",
       "    </tr>\n",
       "    <tr>\n",
       "      <th>20023</th>\n",
       "      <td>107</td>\n",
       "      <td>black</td>\n",
       "    </tr>\n",
       "    <tr>\n",
       "      <th>20024</th>\n",
       "      <td>118</td>\n",
       "      <td>black</td>\n",
       "    </tr>\n",
       "    <tr>\n",
       "      <th>20028</th>\n",
       "      <td>115</td>\n",
       "      <td>white</td>\n",
       "    </tr>\n",
       "    <tr>\n",
       "      <th>20034</th>\n",
       "      <td>100</td>\n",
       "      <td>draw</td>\n",
       "    </tr>\n",
       "    <tr>\n",
       "      <th>20056</th>\n",
       "      <td>109</td>\n",
       "      <td>white</td>\n",
       "    </tr>\n",
       "  </tbody>\n",
       "</table>\n",
       "<p>2622 rows × 2 columns</p>\n",
       "</div>"
      ],
      "text/plain": [
       "       turns winner\n",
       "9        119  white\n",
       "18       101  black\n",
       "76       131  white\n",
       "85       114  white\n",
       "98       113   draw\n",
       "...      ...    ...\n",
       "20023    107  black\n",
       "20024    118  black\n",
       "20028    115  white\n",
       "20034    100   draw\n",
       "20056    109  white\n",
       "\n",
       "[2622 rows x 2 columns]"
      ]
     },
     "execution_count": 50,
     "metadata": {},
     "output_type": "execute_result"
    }
   ],
   "source": [
    "df_A=df_a[df_a['turns'] >= 100]\n",
    "df_A"
   ]
  },
  {
   "cell_type": "code",
   "execution_count": 51,
   "metadata": {},
   "outputs": [
    {
     "name": "stdout",
     "output_type": "stream",
     "text": [
      "White winner: 1093\n",
      "Black winner: 1131\n"
     ]
    }
   ],
   "source": [
    "black_a=0\n",
    "white_a=0\n",
    "# draw_a=0\n",
    "\n",
    "for i in df_A.index:\n",
    "    if (df_A[\"winner\"][i] == \"black\"): black_a+=1;\n",
    "    if (df_A[\"winner\"][i] == \"white\"): white_a+=1;\n",
    "    # if (df_A[\"winner\"][i] == \"draw\"):  draw_a+=1;\n",
    "\n",
    "print(\"White winner: \"+ str(white_a))\n",
    "print(\"Black winner: \"+ str(black_a))\n",
    "# print(white_a+black_a+draw_a)"
   ]
  },
  {
   "cell_type": "markdown",
   "metadata": {},
   "source": [
    "Contamos las veces que un jugador gana con blancas o negras en una partida mayor o igual de 100 turns."
   ]
  },
  {
   "cell_type": "code",
   "execution_count": 52,
   "metadata": {},
   "outputs": [
    {
     "data": {
      "image/png": "[encoded data removed]",
      "text/plain": [
       "<Figure size 1152x648 with 1 Axes>"
      ]
     },
     "metadata": {},
     "output_type": "display_data"
    }
   ],
   "source": [
    "x=['white','black']\n",
    "y=[white_a,black_a]\n",
    "mpl.pyplot.bar(x, y, width=0.3, bottom=None, align='center',color=['green','purple']);"
   ]
  },
  {
   "cell_type": "markdown",
   "metadata": {},
   "source": [
    "Concluimos que a pesar de que en promedio un jugador tiene más probabilidades de ganar un partida cualquiera con las piezas blancas, en una partida 'larga', en nuestro caso de mayor o igual a 100 turns, las piezas negras ganan más, por lo que un jugador con las piezas negras en una partida de más de 100 turns tiene más probabilidades de obtener la victoria. "
   ]
  },
  {
   "cell_type": "markdown",
   "metadata": {},
   "source": [
    "## b) En promedio, ¿con qué rating se gana más con negras y con blancas? (general) -> Basándonos en: What allows a player to win as black or white?"
   ]
  },
  {
   "cell_type": "code",
   "execution_count": 53,
   "metadata": {},
   "outputs": [
    {
     "data": {
      "text/html": [
       "<div>\n",
       "<style scoped>\n",
       "    .dataframe tbody tr th:only-of-type {\n",
       "        vertical-align: middle;\n",
       "    }\n",
       "\n",
       "    .dataframe tbody tr th {\n",
       "        vertical-align: top;\n",
       "    }\n",
       "\n",
       "    .dataframe thead th {\n",
       "        text-align: right;\n",
       "    }\n",
       "</style>\n",
       "<table border=\"1\" class=\"dataframe\">\n",
       "  <thead>\n",
       "    <tr style=\"text-align: right;\">\n",
       "      <th></th>\n",
       "      <th>winner</th>\n",
       "      <th>white_rating</th>\n",
       "      <th>black_rating</th>\n",
       "    </tr>\n",
       "  </thead>\n",
       "  <tbody>\n",
       "    <tr>\n",
       "      <th>0</th>\n",
       "      <td>white</td>\n",
       "      <td>1500</td>\n",
       "      <td>1191</td>\n",
       "    </tr>\n",
       "    <tr>\n",
       "      <th>1</th>\n",
       "      <td>black</td>\n",
       "      <td>1322</td>\n",
       "      <td>1261</td>\n",
       "    </tr>\n",
       "    <tr>\n",
       "      <th>2</th>\n",
       "      <td>white</td>\n",
       "      <td>1496</td>\n",
       "      <td>1500</td>\n",
       "    </tr>\n",
       "    <tr>\n",
       "      <th>3</th>\n",
       "      <td>white</td>\n",
       "      <td>1439</td>\n",
       "      <td>1454</td>\n",
       "    </tr>\n",
       "    <tr>\n",
       "      <th>4</th>\n",
       "      <td>white</td>\n",
       "      <td>1523</td>\n",
       "      <td>1469</td>\n",
       "    </tr>\n",
       "    <tr>\n",
       "      <th>...</th>\n",
       "      <td>...</td>\n",
       "      <td>...</td>\n",
       "      <td>...</td>\n",
       "    </tr>\n",
       "    <tr>\n",
       "      <th>20053</th>\n",
       "      <td>white</td>\n",
       "      <td>1691</td>\n",
       "      <td>1220</td>\n",
       "    </tr>\n",
       "    <tr>\n",
       "      <th>20054</th>\n",
       "      <td>black</td>\n",
       "      <td>1233</td>\n",
       "      <td>1196</td>\n",
       "    </tr>\n",
       "    <tr>\n",
       "      <th>20055</th>\n",
       "      <td>white</td>\n",
       "      <td>1219</td>\n",
       "      <td>1286</td>\n",
       "    </tr>\n",
       "    <tr>\n",
       "      <th>20056</th>\n",
       "      <td>white</td>\n",
       "      <td>1360</td>\n",
       "      <td>1227</td>\n",
       "    </tr>\n",
       "    <tr>\n",
       "      <th>20057</th>\n",
       "      <td>black</td>\n",
       "      <td>1235</td>\n",
       "      <td>1339</td>\n",
       "    </tr>\n",
       "  </tbody>\n",
       "</table>\n",
       "<p>20058 rows × 3 columns</p>\n",
       "</div>"
      ],
      "text/plain": [
       "      winner  white_rating  black_rating\n",
       "0      white          1500          1191\n",
       "1      black          1322          1261\n",
       "2      white          1496          1500\n",
       "3      white          1439          1454\n",
       "4      white          1523          1469\n",
       "...      ...           ...           ...\n",
       "20053  white          1691          1220\n",
       "20054  black          1233          1196\n",
       "20055  white          1219          1286\n",
       "20056  white          1360          1227\n",
       "20057  black          1235          1339\n",
       "\n",
       "[20058 rows x 3 columns]"
      ]
     },
     "execution_count": 53,
     "metadata": {},
     "output_type": "execute_result"
    }
   ],
   "source": [
    "df_b = df_f0.drop(columns=['rated','turns','victory_status','opening_name','opening_ply'])\n",
    "df_b"
   ]
  },
  {
   "cell_type": "code",
   "execution_count": 54,
   "metadata": {},
   "outputs": [
    {
     "data": {
      "text/html": [
       "<div>\n",
       "<style scoped>\n",
       "    .dataframe tbody tr th:only-of-type {\n",
       "        vertical-align: middle;\n",
       "    }\n",
       "\n",
       "    .dataframe tbody tr th {\n",
       "        vertical-align: top;\n",
       "    }\n",
       "\n",
       "    .dataframe thead th {\n",
       "        text-align: right;\n",
       "    }\n",
       "</style>\n",
       "<table border=\"1\" class=\"dataframe\">\n",
       "  <thead>\n",
       "    <tr style=\"text-align: right;\">\n",
       "      <th></th>\n",
       "      <th>winner</th>\n",
       "      <th>white_rating</th>\n",
       "      <th>black_rating</th>\n",
       "    </tr>\n",
       "  </thead>\n",
       "  <tbody>\n",
       "    <tr>\n",
       "      <th>0</th>\n",
       "      <td>white</td>\n",
       "      <td>1500</td>\n",
       "      <td>1191</td>\n",
       "    </tr>\n",
       "    <tr>\n",
       "      <th>2</th>\n",
       "      <td>white</td>\n",
       "      <td>1496</td>\n",
       "      <td>1500</td>\n",
       "    </tr>\n",
       "    <tr>\n",
       "      <th>3</th>\n",
       "      <td>white</td>\n",
       "      <td>1439</td>\n",
       "      <td>1454</td>\n",
       "    </tr>\n",
       "    <tr>\n",
       "      <th>4</th>\n",
       "      <td>white</td>\n",
       "      <td>1523</td>\n",
       "      <td>1469</td>\n",
       "    </tr>\n",
       "    <tr>\n",
       "      <th>6</th>\n",
       "      <td>white</td>\n",
       "      <td>1520</td>\n",
       "      <td>1423</td>\n",
       "    </tr>\n",
       "    <tr>\n",
       "      <th>...</th>\n",
       "      <td>...</td>\n",
       "      <td>...</td>\n",
       "      <td>...</td>\n",
       "    </tr>\n",
       "    <tr>\n",
       "      <th>20050</th>\n",
       "      <td>white</td>\n",
       "      <td>1243</td>\n",
       "      <td>1142</td>\n",
       "    </tr>\n",
       "    <tr>\n",
       "      <th>20052</th>\n",
       "      <td>white</td>\n",
       "      <td>1219</td>\n",
       "      <td>1250</td>\n",
       "    </tr>\n",
       "    <tr>\n",
       "      <th>20053</th>\n",
       "      <td>white</td>\n",
       "      <td>1691</td>\n",
       "      <td>1220</td>\n",
       "    </tr>\n",
       "    <tr>\n",
       "      <th>20055</th>\n",
       "      <td>white</td>\n",
       "      <td>1219</td>\n",
       "      <td>1286</td>\n",
       "    </tr>\n",
       "    <tr>\n",
       "      <th>20056</th>\n",
       "      <td>white</td>\n",
       "      <td>1360</td>\n",
       "      <td>1227</td>\n",
       "    </tr>\n",
       "  </tbody>\n",
       "</table>\n",
       "<p>10001 rows × 3 columns</p>\n",
       "</div>"
      ],
      "text/plain": [
       "      winner  white_rating  black_rating\n",
       "0      white          1500          1191\n",
       "2      white          1496          1500\n",
       "3      white          1439          1454\n",
       "4      white          1523          1469\n",
       "6      white          1520          1423\n",
       "...      ...           ...           ...\n",
       "20050  white          1243          1142\n",
       "20052  white          1219          1250\n",
       "20053  white          1691          1220\n",
       "20055  white          1219          1286\n",
       "20056  white          1360          1227\n",
       "\n",
       "[10001 rows x 3 columns]"
      ]
     },
     "execution_count": 54,
     "metadata": {},
     "output_type": "execute_result"
    }
   ],
   "source": [
    "# Filtro de ganadores con blancas\n",
    "\n",
    "df_b_W = df_b[df_b['winner'] == 'white']\n",
    "df_b_W"
   ]
  },
  {
   "cell_type": "code",
   "execution_count": 55,
   "metadata": {},
   "outputs": [
    {
     "name": "stdout",
     "output_type": "stream",
     "text": [
      "Mediana white_rating_W      : 1603.0\n",
      "Media white_rating_W        : 1634.1841815818418\n",
      "Media black_rating_W        : 1538.876712328767\n",
      "Valor mínimo white_rating_W : 784\n",
      "Valor máximo white_rating_W : 2700\n",
      "Diferencia de rating promedio entre ganador (WHITE) y perdedor: 95.30746925307471\n"
     ]
    },
    {
     "data": {
      "text/plain": [
       "count    10001.000000\n",
       "mean      1634.184182\n",
       "std        290.360578\n",
       "min        784.000000\n",
       "25%       1436.000000\n",
       "50%       1603.000000\n",
       "75%       1822.000000\n",
       "max       2700.000000\n",
       "Name: white_rating, dtype: float64"
      ]
     },
     "execution_count": 55,
     "metadata": {},
     "output_type": "execute_result"
    }
   ],
   "source": [
    "mediana_white_rating_W = df_b_W[\"white_rating\"].median()\n",
    "media_white_rating_W   = df_b_W[\"white_rating\"].mean()\n",
    "min_white_rating_W     = df_b_W[\"white_rating\"].min()\n",
    "max_white_rating_W     = df_b_W[\"white_rating\"].max()\n",
    "\n",
    "media_black_rating_W   = df_b_W[\"black_rating\"].mean()\n",
    "\n",
    "print(\"Mediana white_rating_W      :\",mediana_white_rating_W)\n",
    "print(\"Media white_rating_W        :\",media_white_rating_W)\n",
    "print(\"Media black_rating_W        :\",media_black_rating_W)\n",
    "print(\"Valor mínimo white_rating_W :\",min_white_rating_W)\n",
    "print(\"Valor máximo white_rating_W :\",max_white_rating_W)\n",
    "\n",
    "print(\"Diferencia de rating promedio entre ganador (WHITE) y perdedor:\",media_white_rating_W-media_black_rating_W)\n",
    "\n",
    "df_b_W[\"white_rating\"].describe()"
   ]
  },
  {
   "cell_type": "markdown",
   "metadata": {},
   "source": [
    "Podemos observar que en una partida cuando ganan las blancas, en promedio estas tienen un rating de casi 100 puntos más que las negras. En resumen, blancas ganan cuando en promedio tienen un rating mayor."
   ]
  },
  {
   "cell_type": "code",
   "execution_count": 56,
   "metadata": {},
   "outputs": [
    {
     "data": {
      "image/png": "[encoded data removed]",
      "text/plain": [
       "<Figure size 1152x648 with 1 Axes>"
      ]
     },
     "metadata": {},
     "output_type": "display_data"
    }
   ],
   "source": [
    "sb.set_theme(style=\"whitegrid\")\n",
    "ax_W = sb.boxplot(x=df_b_W[\"white_rating\"])"
   ]
  },
  {
   "cell_type": "code",
   "execution_count": 57,
   "metadata": {},
   "outputs": [
    {
     "data": {
      "text/html": [
       "<div>\n",
       "<style scoped>\n",
       "    .dataframe tbody tr th:only-of-type {\n",
       "        vertical-align: middle;\n",
       "    }\n",
       "\n",
       "    .dataframe tbody tr th {\n",
       "        vertical-align: top;\n",
       "    }\n",
       "\n",
       "    .dataframe thead th {\n",
       "        text-align: right;\n",
       "    }\n",
       "</style>\n",
       "<table border=\"1\" class=\"dataframe\">\n",
       "  <thead>\n",
       "    <tr style=\"text-align: right;\">\n",
       "      <th></th>\n",
       "      <th>winner</th>\n",
       "      <th>white_rating</th>\n",
       "      <th>black_rating</th>\n",
       "    </tr>\n",
       "  </thead>\n",
       "  <tbody>\n",
       "    <tr>\n",
       "      <th>1</th>\n",
       "      <td>black</td>\n",
       "      <td>1322</td>\n",
       "      <td>1261</td>\n",
       "    </tr>\n",
       "    <tr>\n",
       "      <th>7</th>\n",
       "      <td>black</td>\n",
       "      <td>1413</td>\n",
       "      <td>2108</td>\n",
       "    </tr>\n",
       "    <tr>\n",
       "      <th>8</th>\n",
       "      <td>black</td>\n",
       "      <td>1439</td>\n",
       "      <td>1392</td>\n",
       "    </tr>\n",
       "    <tr>\n",
       "      <th>11</th>\n",
       "      <td>black</td>\n",
       "      <td>1381</td>\n",
       "      <td>1867</td>\n",
       "    </tr>\n",
       "    <tr>\n",
       "      <th>12</th>\n",
       "      <td>black</td>\n",
       "      <td>1381</td>\n",
       "      <td>1936</td>\n",
       "    </tr>\n",
       "    <tr>\n",
       "      <th>...</th>\n",
       "      <td>...</td>\n",
       "      <td>...</td>\n",
       "      <td>...</td>\n",
       "    </tr>\n",
       "    <tr>\n",
       "      <th>20041</th>\n",
       "      <td>black</td>\n",
       "      <td>1263</td>\n",
       "      <td>1770</td>\n",
       "    </tr>\n",
       "    <tr>\n",
       "      <th>20046</th>\n",
       "      <td>black</td>\n",
       "      <td>1250</td>\n",
       "      <td>1235</td>\n",
       "    </tr>\n",
       "    <tr>\n",
       "      <th>20051</th>\n",
       "      <td>black</td>\n",
       "      <td>1237</td>\n",
       "      <td>1231</td>\n",
       "    </tr>\n",
       "    <tr>\n",
       "      <th>20054</th>\n",
       "      <td>black</td>\n",
       "      <td>1233</td>\n",
       "      <td>1196</td>\n",
       "    </tr>\n",
       "    <tr>\n",
       "      <th>20057</th>\n",
       "      <td>black</td>\n",
       "      <td>1235</td>\n",
       "      <td>1339</td>\n",
       "    </tr>\n",
       "  </tbody>\n",
       "</table>\n",
       "<p>9107 rows × 3 columns</p>\n",
       "</div>"
      ],
      "text/plain": [
       "      winner  white_rating  black_rating\n",
       "1      black          1322          1261\n",
       "7      black          1413          2108\n",
       "8      black          1439          1392\n",
       "11     black          1381          1867\n",
       "12     black          1381          1936\n",
       "...      ...           ...           ...\n",
       "20041  black          1263          1770\n",
       "20046  black          1250          1235\n",
       "20051  black          1237          1231\n",
       "20054  black          1233          1196\n",
       "20057  black          1235          1339\n",
       "\n",
       "[9107 rows x 3 columns]"
      ]
     },
     "execution_count": 57,
     "metadata": {},
     "output_type": "execute_result"
    }
   ],
   "source": [
    "# Filtro de ganadores con negras\n",
    "\n",
    "df_b_B = df_b[df_b['winner'] == 'black']\n",
    "df_b_B"
   ]
  },
  {
   "cell_type": "code",
   "execution_count": 58,
   "metadata": {},
   "outputs": [
    {
     "name": "stdout",
     "output_type": "stream",
     "text": [
      "Mediana black_rating_B      : 1609.0\n",
      "Media black_rating_B        : 1638.227297683101\n",
      "Media white_rating_B        : 1549.2461842538708\n",
      "Valor mínimo black_rating_B : 789\n",
      "Valor máximo black_rating_B : 2621\n",
      "Diferencia de rating promedio entre ganador (BLACK) y perdedor: 88.98111342923016\n"
     ]
    },
    {
     "data": {
      "text/plain": [
       "count    9107.000000\n",
       "mean     1638.227298\n",
       "std       289.835927\n",
       "min       789.000000\n",
       "25%      1438.500000\n",
       "50%      1609.000000\n",
       "75%      1828.000000\n",
       "max      2621.000000\n",
       "Name: black_rating, dtype: float64"
      ]
     },
     "execution_count": 58,
     "metadata": {},
     "output_type": "execute_result"
    }
   ],
   "source": [
    "mediana_black_rating_B = df_b_B[\"black_rating\"].median()\n",
    "media_black_rating_B   = df_b_B[\"black_rating\"].mean()\n",
    "min_black_rating_B     = df_b_B[\"black_rating\"].min()\n",
    "max_black_rating_B     = df_b_B[\"black_rating\"].max()\n",
    "\n",
    "media_white_rating_B   = df_b_B[\"white_rating\"].mean()\n",
    "\n",
    "print(\"Mediana black_rating_B      :\",mediana_black_rating_B)\n",
    "print(\"Media black_rating_B        :\",media_black_rating_B)\n",
    "print(\"Media white_rating_B        :\",media_white_rating_B)\n",
    "print(\"Valor mínimo black_rating_B :\",min_black_rating_B)\n",
    "print(\"Valor máximo black_rating_B :\",max_black_rating_B)\n",
    "\n",
    "print(\"Diferencia de rating promedio entre ganador (BLACK) y perdedor:\",media_black_rating_B-media_white_rating_B)\n",
    "\n",
    "df_b_B[\"black_rating\"].describe()"
   ]
  },
  {
   "cell_type": "markdown",
   "metadata": {},
   "source": [
    "Podemos observar que en una partida cuando ganan las negras, en promedio estas tienen un rating de casi 90 puntos más que las blancas. En resumen, negras ganan cuando en promedio tienen un rating mayor."
   ]
  },
  {
   "cell_type": "code",
   "execution_count": 59,
   "metadata": {},
   "outputs": [
    {
     "data": {
      "image/png": "[encoded data removed]",
      "text/plain": [
       "<Figure size 1152x648 with 1 Axes>"
      ]
     },
     "metadata": {},
     "output_type": "display_data"
    }
   ],
   "source": [
    "sb.set_theme(style=\"darkgrid\")\n",
    "ax_B = sb.boxplot(x=df_b_B[\"black_rating\"],color='green')"
   ]
  },
  {
   "cell_type": "markdown",
   "metadata": {},
   "source": [
    "Finalmente, observamos que en promedio 1634.1841815818418 es el rating con el que es más común ganar si es que se es blancas. Por otro lado, 1638.227297683101 es el rating con el que es más común ganar si es que se es negras."
   ]
  },
  {
   "cell_type": "markdown",
   "metadata": {},
   "source": [
    "# c) ¿Cuáles son las 5 aperturas con las que se gana más en una pártida con negras y con blancas?"
   ]
  },
  {
   "cell_type": "code",
   "execution_count": 60,
   "metadata": {},
   "outputs": [
    {
     "data": {
      "text/html": [
       "<div>\n",
       "<style scoped>\n",
       "    .dataframe tbody tr th:only-of-type {\n",
       "        vertical-align: middle;\n",
       "    }\n",
       "\n",
       "    .dataframe tbody tr th {\n",
       "        vertical-align: top;\n",
       "    }\n",
       "\n",
       "    .dataframe thead th {\n",
       "        text-align: right;\n",
       "    }\n",
       "</style>\n",
       "<table border=\"1\" class=\"dataframe\">\n",
       "  <thead>\n",
       "    <tr style=\"text-align: right;\">\n",
       "      <th></th>\n",
       "      <th>winner</th>\n",
       "      <th>opening_name</th>\n",
       "    </tr>\n",
       "  </thead>\n",
       "  <tbody>\n",
       "    <tr>\n",
       "      <th>0</th>\n",
       "      <td>white</td>\n",
       "      <td>Slav Defense: Exchange Variation</td>\n",
       "    </tr>\n",
       "    <tr>\n",
       "      <th>1</th>\n",
       "      <td>black</td>\n",
       "      <td>Nimzowitsch Defense: Kennedy Variation</td>\n",
       "    </tr>\n",
       "    <tr>\n",
       "      <th>2</th>\n",
       "      <td>white</td>\n",
       "      <td>King's Pawn Game: Leonardis Variation</td>\n",
       "    </tr>\n",
       "    <tr>\n",
       "      <th>3</th>\n",
       "      <td>white</td>\n",
       "      <td>Queen's Pawn Game: Zukertort Variation</td>\n",
       "    </tr>\n",
       "    <tr>\n",
       "      <th>4</th>\n",
       "      <td>white</td>\n",
       "      <td>Philidor Defense</td>\n",
       "    </tr>\n",
       "    <tr>\n",
       "      <th>...</th>\n",
       "      <td>...</td>\n",
       "      <td>...</td>\n",
       "    </tr>\n",
       "    <tr>\n",
       "      <th>20053</th>\n",
       "      <td>white</td>\n",
       "      <td>Dutch Defense</td>\n",
       "    </tr>\n",
       "    <tr>\n",
       "      <th>20054</th>\n",
       "      <td>black</td>\n",
       "      <td>Queen's Pawn</td>\n",
       "    </tr>\n",
       "    <tr>\n",
       "      <th>20055</th>\n",
       "      <td>white</td>\n",
       "      <td>Queen's Pawn Game: Mason Attack</td>\n",
       "    </tr>\n",
       "    <tr>\n",
       "      <th>20056</th>\n",
       "      <td>white</td>\n",
       "      <td>Pirc Defense</td>\n",
       "    </tr>\n",
       "    <tr>\n",
       "      <th>20057</th>\n",
       "      <td>black</td>\n",
       "      <td>Queen's Pawn Game: Mason Attack</td>\n",
       "    </tr>\n",
       "  </tbody>\n",
       "</table>\n",
       "<p>20058 rows × 2 columns</p>\n",
       "</div>"
      ],
      "text/plain": [
       "      winner                            opening_name\n",
       "0      white        Slav Defense: Exchange Variation\n",
       "1      black  Nimzowitsch Defense: Kennedy Variation\n",
       "2      white   King's Pawn Game: Leonardis Variation\n",
       "3      white  Queen's Pawn Game: Zukertort Variation\n",
       "4      white                        Philidor Defense\n",
       "...      ...                                     ...\n",
       "20053  white                           Dutch Defense\n",
       "20054  black                            Queen's Pawn\n",
       "20055  white         Queen's Pawn Game: Mason Attack\n",
       "20056  white                            Pirc Defense\n",
       "20057  black         Queen's Pawn Game: Mason Attack\n",
       "\n",
       "[20058 rows x 2 columns]"
      ]
     },
     "execution_count": 60,
     "metadata": {},
     "output_type": "execute_result"
    }
   ],
   "source": [
    "df_c = df_f0.drop(columns=['rated','turns','victory_status','white_rating','black_rating','opening_ply'])\n",
    "df_c"
   ]
  },
  {
   "cell_type": "code",
   "execution_count": 61,
   "metadata": {},
   "outputs": [
    {
     "name": "stdout",
     "output_type": "stream",
     "text": [
      "Van't Kruijs Opening: 368\n",
      "Sicilian Defense: 358\n",
      "French Defense: Knight Variation: 271\n",
      "Sicilian Defense: Bowdler Attack: 296\n",
      "Scotch Game: 271\n"
     ]
    }
   ],
   "source": [
    "vant_kruijs_opening=0\n",
    "sicilian_defense=0\n",
    "french_defense_knight_variation=0\n",
    "sicilian_defense_bowdler_attack=0\n",
    "scotch_game=0\n",
    "\n",
    "for i in df_c.index:\n",
    "    if (df_c[\"opening_name\"][i] == \"Van't Kruijs Opening\"): vant_kruijs_opening+=1;\n",
    "    if (df_c[\"opening_name\"][i] == \"Sicilian Defense\"): sicilian_defense+=1;\n",
    "    if (df_c[\"opening_name\"][i] == \"French Defense: Knight Variation\"): french_defense_knight_variation+=1;\n",
    "    if (df_c[\"opening_name\"][i] == \"Sicilian Defense: Bowdler Attack\"): sicilian_defense_bowdler_attack+=1;\n",
    "    if (df_c[\"opening_name\"][i] == \"Scotch Game\"): scotch_game+=1;\n",
    "\n",
    "print(\"Van't Kruijs Opening: \"+ str(vant_kruijs_opening))\n",
    "print(\"Sicilian Defense: \"+ str(sicilian_defense))\n",
    "print(\"French Defense: Knight Variation: \"+ str(french_defense_knight_variation))\n",
    "print(\"Sicilian Defense: Bowdler Attack: \"+ str(sicilian_defense_bowdler_attack))\n",
    "print(\"Scotch Game: \"+ str(scotch_game))"
   ]
  },
  {
   "cell_type": "markdown",
   "metadata": {},
   "source": [
    "Basandonos en las tácticas de apertura, se determina la que más ha cosechado victorias en una partida de ajedrez."
   ]
  },
  {
   "cell_type": "code",
   "execution_count": 62,
   "metadata": {},
   "outputs": [
    {
     "data": {
      "image/png": "[encoded data removed]",
      "text/plain": [
       "<Figure size 1152x648 with 1 Axes>"
      ]
     },
     "metadata": {},
     "output_type": "display_data"
    }
   ],
   "source": [
    "x=['Vant Kruijs Opening','Sicilian Defense','French Defense Knight Variation','Sicilian Defense Bowdler Attack','Scotch Game']\n",
    "y=[vant_kruijs_opening,sicilian_defense,french_defense_knight_variation,sicilian_defense_bowdler_attack,scotch_game]\n",
    "mpl.pyplot.bar(x, y, width=0.3, bottom=None, align='center',color=['yellow','purple','green','red','orange']);"
   ]
  },
  {
   "cell_type": "markdown",
   "metadata": {},
   "source": [
    "Analizando nuestros resultados, podemos concluir que la apertura que tiene mayor número de victorias en una partida de ajedrez es la de Vant't Kruijs Opening."
   ]
  },
  {
   "cell_type": "markdown",
   "metadata": {},
   "source": [
    "# d) ¿Con qué color de pieza se gana más?"
   ]
  },
  {
   "cell_type": "code",
   "execution_count": 63,
   "metadata": {},
   "outputs": [
    {
     "data": {
      "text/html": [
       "<div>\n",
       "<style scoped>\n",
       "    .dataframe tbody tr th:only-of-type {\n",
       "        vertical-align: middle;\n",
       "    }\n",
       "\n",
       "    .dataframe tbody tr th {\n",
       "        vertical-align: top;\n",
       "    }\n",
       "\n",
       "    .dataframe thead th {\n",
       "        text-align: right;\n",
       "    }\n",
       "</style>\n",
       "<table border=\"1\" class=\"dataframe\">\n",
       "  <thead>\n",
       "    <tr style=\"text-align: right;\">\n",
       "      <th></th>\n",
       "      <th>winner</th>\n",
       "    </tr>\n",
       "  </thead>\n",
       "  <tbody>\n",
       "    <tr>\n",
       "      <th>0</th>\n",
       "      <td>white</td>\n",
       "    </tr>\n",
       "    <tr>\n",
       "      <th>1</th>\n",
       "      <td>black</td>\n",
       "    </tr>\n",
       "    <tr>\n",
       "      <th>2</th>\n",
       "      <td>white</td>\n",
       "    </tr>\n",
       "    <tr>\n",
       "      <th>3</th>\n",
       "      <td>white</td>\n",
       "    </tr>\n",
       "    <tr>\n",
       "      <th>4</th>\n",
       "      <td>white</td>\n",
       "    </tr>\n",
       "    <tr>\n",
       "      <th>...</th>\n",
       "      <td>...</td>\n",
       "    </tr>\n",
       "    <tr>\n",
       "      <th>20053</th>\n",
       "      <td>white</td>\n",
       "    </tr>\n",
       "    <tr>\n",
       "      <th>20054</th>\n",
       "      <td>black</td>\n",
       "    </tr>\n",
       "    <tr>\n",
       "      <th>20055</th>\n",
       "      <td>white</td>\n",
       "    </tr>\n",
       "    <tr>\n",
       "      <th>20056</th>\n",
       "      <td>white</td>\n",
       "    </tr>\n",
       "    <tr>\n",
       "      <th>20057</th>\n",
       "      <td>black</td>\n",
       "    </tr>\n",
       "  </tbody>\n",
       "</table>\n",
       "<p>20058 rows × 1 columns</p>\n",
       "</div>"
      ],
      "text/plain": [
       "      winner\n",
       "0      white\n",
       "1      black\n",
       "2      white\n",
       "3      white\n",
       "4      white\n",
       "...      ...\n",
       "20053  white\n",
       "20054  black\n",
       "20055  white\n",
       "20056  white\n",
       "20057  black\n",
       "\n",
       "[20058 rows x 1 columns]"
      ]
     },
     "execution_count": 63,
     "metadata": {},
     "output_type": "execute_result"
    }
   ],
   "source": [
    "df_d = df_f0.drop(columns=['rated','turns','victory_status','white_rating','black_rating','opening_name','opening_ply'])\n",
    "df_d"
   ]
  },
  {
   "cell_type": "code",
   "execution_count": 64,
   "metadata": {},
   "outputs": [
    {
     "name": "stdout",
     "output_type": "stream",
     "text": [
      "White winner: 10001\n",
      "Black winner: 9107\n"
     ]
    }
   ],
   "source": [
    "black_d=0\n",
    "white_d=0\n",
    "#draw_d=0\n",
    "\n",
    "for i in df_d.index:\n",
    "    if (df_d[\"winner\"][i] == \"black\"): black_d+=1;\n",
    "    if (df_d[\"winner\"][i] == \"white\"): white_d+=1;\n",
    "    #if (df_d[\"winner\"][i] == \"draw\"):  draw_d+=1;\n",
    "\n",
    "print(\"White winner: \"+ str(white_d))\n",
    "print(\"Black winner: \"+ str(black_d))\n",
    "#print(white_d+black_d+draw_d)"
   ]
  },
  {
   "cell_type": "markdown",
   "metadata": {},
   "source": [
    "Contamos las veces que un jugador gana con blancas o negras."
   ]
  },
  {
   "cell_type": "code",
   "execution_count": 65,
   "metadata": {},
   "outputs": [
    {
     "data": {
      "image/png": "[encoded data removed]",
      "text/plain": [
       "<Figure size 1152x648 with 1 Axes>"
      ]
     },
     "metadata": {},
     "output_type": "display_data"
    }
   ],
   "source": [
    "x=['white','black']\n",
    "y=[white_d,black_d]\n",
    "mpl.pyplot.bar(x, y, width=0.3, bottom=None, align='center',color=['blue','red']);"
   ]
  },
  {
   "cell_type": "markdown",
   "metadata": {},
   "source": [
    "Analindo el gráfico podemos concluir que un jugador tiene más probabilidades de ganar un partida cualquiera con las piezas blancas, esto puede deberse al ser el primero en iniciar la partida de ajedrez."
   ]
  },
  {
   "cell_type": "markdown",
   "metadata": {},
   "source": [
    "## e) ¿Cuál es el estatus de victoria más común?"
   ]
  },
  {
   "cell_type": "code",
   "execution_count": 66,
   "metadata": {},
   "outputs": [
    {
     "data": {
      "text/html": [
       "<div>\n",
       "<style scoped>\n",
       "    .dataframe tbody tr th:only-of-type {\n",
       "        vertical-align: middle;\n",
       "    }\n",
       "\n",
       "    .dataframe tbody tr th {\n",
       "        vertical-align: top;\n",
       "    }\n",
       "\n",
       "    .dataframe thead th {\n",
       "        text-align: right;\n",
       "    }\n",
       "</style>\n",
       "<table border=\"1\" class=\"dataframe\">\n",
       "  <thead>\n",
       "    <tr style=\"text-align: right;\">\n",
       "      <th></th>\n",
       "      <th>victory_status</th>\n",
       "      <th>winner</th>\n",
       "    </tr>\n",
       "  </thead>\n",
       "  <tbody>\n",
       "    <tr>\n",
       "      <th>0</th>\n",
       "      <td>outoftime</td>\n",
       "      <td>white</td>\n",
       "    </tr>\n",
       "    <tr>\n",
       "      <th>1</th>\n",
       "      <td>resign</td>\n",
       "      <td>black</td>\n",
       "    </tr>\n",
       "    <tr>\n",
       "      <th>2</th>\n",
       "      <td>mate</td>\n",
       "      <td>white</td>\n",
       "    </tr>\n",
       "    <tr>\n",
       "      <th>3</th>\n",
       "      <td>mate</td>\n",
       "      <td>white</td>\n",
       "    </tr>\n",
       "    <tr>\n",
       "      <th>4</th>\n",
       "      <td>mate</td>\n",
       "      <td>white</td>\n",
       "    </tr>\n",
       "    <tr>\n",
       "      <th>...</th>\n",
       "      <td>...</td>\n",
       "      <td>...</td>\n",
       "    </tr>\n",
       "    <tr>\n",
       "      <th>20053</th>\n",
       "      <td>resign</td>\n",
       "      <td>white</td>\n",
       "    </tr>\n",
       "    <tr>\n",
       "      <th>20054</th>\n",
       "      <td>mate</td>\n",
       "      <td>black</td>\n",
       "    </tr>\n",
       "    <tr>\n",
       "      <th>20055</th>\n",
       "      <td>mate</td>\n",
       "      <td>white</td>\n",
       "    </tr>\n",
       "    <tr>\n",
       "      <th>20056</th>\n",
       "      <td>resign</td>\n",
       "      <td>white</td>\n",
       "    </tr>\n",
       "    <tr>\n",
       "      <th>20057</th>\n",
       "      <td>mate</td>\n",
       "      <td>black</td>\n",
       "    </tr>\n",
       "  </tbody>\n",
       "</table>\n",
       "<p>20058 rows × 2 columns</p>\n",
       "</div>"
      ],
      "text/plain": [
       "      victory_status winner\n",
       "0          outoftime  white\n",
       "1             resign  black\n",
       "2               mate  white\n",
       "3               mate  white\n",
       "4               mate  white\n",
       "...              ...    ...\n",
       "20053         resign  white\n",
       "20054           mate  black\n",
       "20055           mate  white\n",
       "20056         resign  white\n",
       "20057           mate  black\n",
       "\n",
       "[20058 rows x 2 columns]"
      ]
     },
     "execution_count": 66,
     "metadata": {},
     "output_type": "execute_result"
    }
   ],
   "source": [
    "df_e = df_f0.drop(columns=['rated','turns','white_rating','black_rating','opening_name','opening_ply'])\n",
    "df_e"
   ]
  },
  {
   "cell_type": "code",
   "execution_count": 67,
   "metadata": {},
   "outputs": [
    {
     "name": "stdout",
     "output_type": "stream",
     "text": [
      "Out of time : 1680\n",
      "Mate        : 6325\n",
      "Resign      : 11147\n",
      "Draw        : 906\n"
     ]
    },
    {
     "data": {
      "text/html": [
       "<div>\n",
       "<style scoped>\n",
       "    .dataframe tbody tr th:only-of-type {\n",
       "        vertical-align: middle;\n",
       "    }\n",
       "\n",
       "    .dataframe tbody tr th {\n",
       "        vertical-align: top;\n",
       "    }\n",
       "\n",
       "    .dataframe thead th {\n",
       "        text-align: right;\n",
       "    }\n",
       "</style>\n",
       "<table border=\"1\" class=\"dataframe\">\n",
       "  <thead>\n",
       "    <tr style=\"text-align: right;\">\n",
       "      <th></th>\n",
       "      <th>victory_status</th>\n",
       "      <th>winner</th>\n",
       "    </tr>\n",
       "  </thead>\n",
       "  <tbody>\n",
       "    <tr>\n",
       "      <th>0</th>\n",
       "      <td>0</td>\n",
       "      <td>white</td>\n",
       "    </tr>\n",
       "    <tr>\n",
       "      <th>1</th>\n",
       "      <td>3</td>\n",
       "      <td>black</td>\n",
       "    </tr>\n",
       "    <tr>\n",
       "      <th>2</th>\n",
       "      <td>2</td>\n",
       "      <td>white</td>\n",
       "    </tr>\n",
       "    <tr>\n",
       "      <th>3</th>\n",
       "      <td>2</td>\n",
       "      <td>white</td>\n",
       "    </tr>\n",
       "    <tr>\n",
       "      <th>4</th>\n",
       "      <td>2</td>\n",
       "      <td>white</td>\n",
       "    </tr>\n",
       "    <tr>\n",
       "      <th>...</th>\n",
       "      <td>...</td>\n",
       "      <td>...</td>\n",
       "    </tr>\n",
       "    <tr>\n",
       "      <th>20053</th>\n",
       "      <td>3</td>\n",
       "      <td>white</td>\n",
       "    </tr>\n",
       "    <tr>\n",
       "      <th>20054</th>\n",
       "      <td>2</td>\n",
       "      <td>black</td>\n",
       "    </tr>\n",
       "    <tr>\n",
       "      <th>20055</th>\n",
       "      <td>2</td>\n",
       "      <td>white</td>\n",
       "    </tr>\n",
       "    <tr>\n",
       "      <th>20056</th>\n",
       "      <td>3</td>\n",
       "      <td>white</td>\n",
       "    </tr>\n",
       "    <tr>\n",
       "      <th>20057</th>\n",
       "      <td>2</td>\n",
       "      <td>black</td>\n",
       "    </tr>\n",
       "  </tbody>\n",
       "</table>\n",
       "<p>20058 rows × 2 columns</p>\n",
       "</div>"
      ],
      "text/plain": [
       "      victory_status winner\n",
       "0                  0  white\n",
       "1                  3  black\n",
       "2                  2  white\n",
       "3                  2  white\n",
       "4                  2  white\n",
       "...              ...    ...\n",
       "20053              3  white\n",
       "20054              2  black\n",
       "20055              2  white\n",
       "20056              3  white\n",
       "20057              2  black\n",
       "\n",
       "[20058 rows x 2 columns]"
      ]
     },
     "execution_count": 67,
     "metadata": {},
     "output_type": "execute_result"
    }
   ],
   "source": [
    "# outoftime = 0, draw = 1, mate = 2, resign = 3\n",
    "df_e_1 = df_e\n",
    "\n",
    "outoftime = 0;\n",
    "mate = 0;\n",
    "resign = 0;\n",
    "draw = 0;\n",
    "\n",
    "for i in df_e_1.index:\n",
    "    if (df_e_1[\"victory_status\"][i] == \"mate\"): df_e_1[\"victory_status\"][i] = '2';\n",
    "    if (df_e_1[\"victory_status\"][i] == \"outoftime\"): df_e_1[\"victory_status\"][i] = '0';\n",
    "    if (df_e_1[\"victory_status\"][i] == \"resign\"): df_e_1[\"victory_status\"][i] = '3';\n",
    "    if (df_e_1[\"victory_status\"][i] == \"draw\"): df_e_1[\"victory_status\"][i] = '1';\n",
    "        \n",
    "for i in df_e_1.index:\n",
    "    if (df_e_1[\"victory_status\"][i] == '2'): mate+=1;\n",
    "    if (df_e_1[\"victory_status\"][i] == '0'): outoftime+=1;\n",
    "    if (df_e_1[\"victory_status\"][i] == '3'): resign+=1;\n",
    "    if (df_e_1[\"victory_status\"][i] == '1'): draw+=1;    \n",
    "\n",
    "print(\"Out of time : \"+ str(outoftime))\n",
    "print(\"Mate        : \"+ str(mate))\n",
    "print(\"Resign      : \"+ str(resign))\n",
    "print(\"Draw        : \"+ str(draw))\n",
    "\n",
    "df_e_1"
   ]
  },
  {
   "cell_type": "code",
   "execution_count": 68,
   "metadata": {},
   "outputs": [
    {
     "name": "stdout",
     "output_type": "stream",
     "text": [
      "100 % = 20058\n",
      "\n",
      "Out of time :  8.375710439724799 %\n",
      "Mate        : 31.533552697178184 %\n",
      "Resign      : 55.573835875959716 %\n",
      "Draw        :  4.516900987137302 %\n"
     ]
    },
    {
     "data": {
      "image/png": "[encoded data removed]",
      "text/plain": [
       "<Figure size 1152x648 with 1 Axes>"
      ]
     },
     "metadata": {},
     "output_type": "display_data"
    }
   ],
   "source": [
    "df_e_2 = pd.DataFrame(data={\"VS\":['Out Of Time','Draw','Mate','Resign'],\n",
    " \"Porcentaje de estatus de victoria\":[outoftime, draw, mate, resign]})\n",
    "\n",
    "df_e_2.set_index('VS')['Porcentaje de estatus de victoria'].plot.pie();\n",
    "\n",
    "print(\"100 % = 20058\\n\")\n",
    "print(\"Out of time :  \"+ str(outoftime*100/20058)+\" %\")\n",
    "print(\"Mate        : \"+ str(mate*100/20058)+\" %\")\n",
    "print(\"Resign      : \"+ str(resign*100/20058)+\" %\")\n",
    "print(\"Draw        :  \"+ str(draw*100/20058)+\" %\")"
   ]
  },
  {
   "cell_type": "markdown",
   "metadata": {},
   "source": [
    "Concluimos que debido a que el estatus de victoria 'resign' es el más grande es porcentaje con 55.573835875959716%, este es el estatus de victoria más común."
   ]
  }
 ],
 "metadata": {
  "colab": {
   "collapsed_sections": [],
   "name": "Mapas de calor y boxplots.ipynb",
   "provenance": []
  },
  "kernelspec": {
   "display_name": "Python 3",
   "language": "python",
   "name": "python3"
  },
  "language_info": {
   "codemirror_mode": {
    "name": "ipython",
    "version": 3
   },
   "file_extension": ".py",
   "mimetype": "text/x-python",
   "name": "python",
   "nbconvert_exporter": "python",
   "pygments_lexer": "ipython3",
   "version": "3.8.5"
  }
 },
 "nbformat": 4,
 "nbformat_minor": 1
}
