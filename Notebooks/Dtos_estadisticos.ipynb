{
 "cells": [
  {
   "cell_type": "markdown",
   "metadata": {},
   "source": [
    "# Obtencion de datos estadisticos\n",
    "Carga los datos usando tu lector de csv o con pandas. Es recomendable hacerlo con pandas.\n",
    "Verifica la cantidad de datos que tienes, las variables que contiene cada vector de datos e identifica el tipo de variables.\n",
    "Analiza las variables para saber que representa cada una y en que rangos se encuentran. Si la descripción del problema no te lo indica, utiliza el máximo y el mínimo para encontrarlo.\n",
    "Basándose en la media, mediana y desviación estándar de cada variable, que conclusiones puedes entregar de los datos.\n",
    " "
   ]
  },
  {
   "cell_type": "code",
   "execution_count": 8,
   "metadata": {},
   "outputs": [],
   "source": [
    "import pandas as pd\n",
    "datos=pd.read_csv('MPI_national.csv')\n"
   ]
  },
  {
   "cell_type": "code",
   "execution_count": 9,
   "metadata": {
    "scrolled": true
   },
   "outputs": [
    {
     "data": {
      "text/html": [
       "<div>\n",
       "<style scoped>\n",
       "    .dataframe tbody tr th:only-of-type {\n",
       "        vertical-align: middle;\n",
       "    }\n",
       "\n",
       "    .dataframe tbody tr th {\n",
       "        vertical-align: top;\n",
       "    }\n",
       "\n",
       "    .dataframe thead th {\n",
       "        text-align: right;\n",
       "    }\n",
       "</style>\n",
       "<table border=\"1\" class=\"dataframe\">\n",
       "  <thead>\n",
       "    <tr style=\"text-align: right;\">\n",
       "      <th></th>\n",
       "      <th>ISO</th>\n",
       "      <th>Country</th>\n",
       "      <th>MPI Urban</th>\n",
       "      <th>Headcount Ratio Urban</th>\n",
       "      <th>Intensity of Deprivation Urban</th>\n",
       "      <th>MPI Rural</th>\n",
       "      <th>Headcount Ratio Rural</th>\n",
       "      <th>Intensity of Deprivation Rural</th>\n",
       "    </tr>\n",
       "  </thead>\n",
       "  <tbody>\n",
       "    <tr>\n",
       "      <th>0</th>\n",
       "      <td>KAZ</td>\n",
       "      <td>Kazakhstan</td>\n",
       "      <td>0.000</td>\n",
       "      <td>0.0</td>\n",
       "      <td>33.3</td>\n",
       "      <td>0.000</td>\n",
       "      <td>0.09</td>\n",
       "      <td>33.3</td>\n",
       "    </tr>\n",
       "    <tr>\n",
       "      <th>1</th>\n",
       "      <td>SRB</td>\n",
       "      <td>Serbia</td>\n",
       "      <td>0.000</td>\n",
       "      <td>0.1</td>\n",
       "      <td>41.4</td>\n",
       "      <td>0.002</td>\n",
       "      <td>0.50</td>\n",
       "      <td>40.3</td>\n",
       "    </tr>\n",
       "    <tr>\n",
       "      <th>2</th>\n",
       "      <td>KGZ</td>\n",
       "      <td>Kyrgyzstan</td>\n",
       "      <td>0.000</td>\n",
       "      <td>0.1</td>\n",
       "      <td>40.2</td>\n",
       "      <td>0.003</td>\n",
       "      <td>0.70</td>\n",
       "      <td>37.1</td>\n",
       "    </tr>\n",
       "    <tr>\n",
       "      <th>3</th>\n",
       "      <td>TUN</td>\n",
       "      <td>Tunisia</td>\n",
       "      <td>0.000</td>\n",
       "      <td>0.1</td>\n",
       "      <td>35.6</td>\n",
       "      <td>0.012</td>\n",
       "      <td>3.18</td>\n",
       "      <td>38.7</td>\n",
       "    </tr>\n",
       "    <tr>\n",
       "      <th>4</th>\n",
       "      <td>ARM</td>\n",
       "      <td>Armenia</td>\n",
       "      <td>0.001</td>\n",
       "      <td>0.2</td>\n",
       "      <td>33.3</td>\n",
       "      <td>0.001</td>\n",
       "      <td>0.39</td>\n",
       "      <td>36.9</td>\n",
       "    </tr>\n",
       "    <tr>\n",
       "      <th>...</th>\n",
       "      <td>...</td>\n",
       "      <td>...</td>\n",
       "      <td>...</td>\n",
       "      <td>...</td>\n",
       "      <td>...</td>\n",
       "      <td>...</td>\n",
       "      <td>...</td>\n",
       "      <td>...</td>\n",
       "    </tr>\n",
       "    <tr>\n",
       "      <th>97</th>\n",
       "      <td>CAF</td>\n",
       "      <td>Central African Republic</td>\n",
       "      <td>0.289</td>\n",
       "      <td>58.2</td>\n",
       "      <td>49.7</td>\n",
       "      <td>0.519</td>\n",
       "      <td>89.79</td>\n",
       "      <td>57.8</td>\n",
       "    </tr>\n",
       "    <tr>\n",
       "      <th>98</th>\n",
       "      <td>LBR</td>\n",
       "      <td>Liberia</td>\n",
       "      <td>0.290</td>\n",
       "      <td>60.5</td>\n",
       "      <td>48.0</td>\n",
       "      <td>0.481</td>\n",
       "      <td>84.86</td>\n",
       "      <td>56.6</td>\n",
       "    </tr>\n",
       "    <tr>\n",
       "      <th>99</th>\n",
       "      <td>SOM</td>\n",
       "      <td>Somalia</td>\n",
       "      <td>0.293</td>\n",
       "      <td>55.9</td>\n",
       "      <td>52.4</td>\n",
       "      <td>0.651</td>\n",
       "      <td>96.92</td>\n",
       "      <td>67.2</td>\n",
       "    </tr>\n",
       "    <tr>\n",
       "      <th>100</th>\n",
       "      <td>TCD</td>\n",
       "      <td>Chad</td>\n",
       "      <td>0.351</td>\n",
       "      <td>64.8</td>\n",
       "      <td>54.1</td>\n",
       "      <td>0.609</td>\n",
       "      <td>93.41</td>\n",
       "      <td>65.2</td>\n",
       "    </tr>\n",
       "    <tr>\n",
       "      <th>101</th>\n",
       "      <td>SSD</td>\n",
       "      <td>South Sudan</td>\n",
       "      <td>0.459</td>\n",
       "      <td>82.5</td>\n",
       "      <td>55.7</td>\n",
       "      <td>0.591</td>\n",
       "      <td>94.00</td>\n",
       "      <td>62.8</td>\n",
       "    </tr>\n",
       "  </tbody>\n",
       "</table>\n",
       "<p>102 rows × 8 columns</p>\n",
       "</div>"
      ],
      "text/plain": [
       "     ISO                   Country  MPI Urban  Headcount Ratio Urban  \\\n",
       "0    KAZ                Kazakhstan      0.000                    0.0   \n",
       "1    SRB                    Serbia      0.000                    0.1   \n",
       "2    KGZ                Kyrgyzstan      0.000                    0.1   \n",
       "3    TUN                   Tunisia      0.000                    0.1   \n",
       "4    ARM                   Armenia      0.001                    0.2   \n",
       "..   ...                       ...        ...                    ...   \n",
       "97   CAF  Central African Republic      0.289                   58.2   \n",
       "98   LBR                   Liberia      0.290                   60.5   \n",
       "99   SOM                   Somalia      0.293                   55.9   \n",
       "100  TCD                      Chad      0.351                   64.8   \n",
       "101  SSD               South Sudan      0.459                   82.5   \n",
       "\n",
       "     Intensity of Deprivation Urban  MPI Rural  Headcount Ratio Rural  \\\n",
       "0                              33.3      0.000                   0.09   \n",
       "1                              41.4      0.002                   0.50   \n",
       "2                              40.2      0.003                   0.70   \n",
       "3                              35.6      0.012                   3.18   \n",
       "4                              33.3      0.001                   0.39   \n",
       "..                              ...        ...                    ...   \n",
       "97                             49.7      0.519                  89.79   \n",
       "98                             48.0      0.481                  84.86   \n",
       "99                             52.4      0.651                  96.92   \n",
       "100                            54.1      0.609                  93.41   \n",
       "101                            55.7      0.591                  94.00   \n",
       "\n",
       "     Intensity of Deprivation Rural  \n",
       "0                              33.3  \n",
       "1                              40.3  \n",
       "2                              37.1  \n",
       "3                              38.7  \n",
       "4                              36.9  \n",
       "..                              ...  \n",
       "97                             57.8  \n",
       "98                             56.6  \n",
       "99                             67.2  \n",
       "100                            65.2  \n",
       "101                            62.8  \n",
       "\n",
       "[102 rows x 8 columns]"
      ]
     },
     "execution_count": 9,
     "metadata": {},
     "output_type": "execute_result"
    }
   ],
   "source": [
    "datos\n"
   ]
  },
  {
   "cell_type": "code",
   "execution_count": 36,
   "metadata": {},
   "outputs": [
    {
     "data": {
      "text/plain": [
       "102"
      ]
     },
     "execution_count": 36,
     "metadata": {},
     "output_type": "execute_result"
    }
   ],
   "source": [
    "filas=len(datos)\n",
    "filas\n"
   ]
  },
  {
   "cell_type": "code",
   "execution_count": 11,
   "metadata": {},
   "outputs": [],
   "source": [
    "\n",
    "tipo_datos = pd.read_csv (\"MPI_national.csv\")\n"
   ]
  },
  {
   "cell_type": "code",
   "execution_count": 14,
   "metadata": {},
   "outputs": [
    {
     "data": {
      "text/plain": [
       "ISO                                object\n",
       "Country                            object\n",
       "MPI Urban                         float64\n",
       "Headcount Ratio Urban             float64\n",
       "Intensity of Deprivation Urban    float64\n",
       "MPI Rural                         float64\n",
       "Headcount Ratio Rural             float64\n",
       "Intensity of Deprivation Rural    float64\n",
       "dtype: object"
      ]
     },
     "execution_count": 14,
     "metadata": {},
     "output_type": "execute_result"
    }
   ],
   "source": [
    "tipo_datos.dtypes"
   ]
  },
  {
   "cell_type": "code",
   "execution_count": 25,
   "metadata": {},
   "outputs": [
    {
     "data": {
      "text/plain": [
       "count    102.000000\n",
       "mean       0.078343\n",
       "std        0.093693\n",
       "min        0.000000\n",
       "25%        0.007250\n",
       "50%        0.034500\n",
       "75%        0.125750\n",
       "max        0.459000\n",
       "Name: MPI Urban, dtype: float64"
      ]
     },
     "execution_count": 25,
     "metadata": {},
     "output_type": "execute_result"
    }
   ],
   "source": [
    "datos['MPI Urban'].describe()"
   ]
  },
  {
   "cell_type": "code",
   "execution_count": 27,
   "metadata": {},
   "outputs": [
    {
     "data": {
      "text/plain": [
       "count    102.000000\n",
       "mean      16.809804\n",
       "std       18.498448\n",
       "min        0.000000\n",
       "25%        1.950000\n",
       "50%        8.400000\n",
       "75%       27.575000\n",
       "max       82.500000\n",
       "Name: Headcount Ratio Urban, dtype: float64"
      ]
     },
     "execution_count": 27,
     "metadata": {},
     "output_type": "execute_result"
    }
   ],
   "source": [
    "datos['Headcount Ratio Urban'].describe()"
   ]
  },
  {
   "cell_type": "code",
   "execution_count": 28,
   "metadata": {},
   "outputs": [
    {
     "data": {
      "text/plain": [
       "count    102.000000\n",
       "mean      41.678431\n",
       "std        5.135908\n",
       "min       33.300000\n",
       "25%       37.200000\n",
       "50%       41.550000\n",
       "75%       45.675000\n",
       "max       55.700000\n",
       "Name: Intensity of Deprivation Urban, dtype: float64"
      ]
     },
     "execution_count": 28,
     "metadata": {},
     "output_type": "execute_result"
    }
   ],
   "source": [
    "datos['Intensity of Deprivation Urban'].describe()"
   ]
  },
  {
   "cell_type": "code",
   "execution_count": 29,
   "metadata": {
    "scrolled": true
   },
   "outputs": [
    {
     "data": {
      "text/plain": [
       "count    102.000000\n",
       "mean       0.214676\n",
       "std        0.201208\n",
       "min        0.000000\n",
       "25%        0.025000\n",
       "50%        0.160000\n",
       "75%        0.384500\n",
       "max        0.669000\n",
       "Name: MPI Rural, dtype: float64"
      ]
     },
     "execution_count": 29,
     "metadata": {},
     "output_type": "execute_result"
    }
   ],
   "source": [
    "datos['MPI Rural'].describe()"
   ]
  },
  {
   "cell_type": "code",
   "execution_count": 30,
   "metadata": {},
   "outputs": [
    {
     "data": {
      "text/plain": [
       "count    102.000000\n",
       "mean      40.036176\n",
       "std       33.270714\n",
       "min        0.090000\n",
       "25%        6.745000\n",
       "50%       36.055000\n",
       "75%       70.130000\n",
       "max       96.920000\n",
       "Name: Headcount Ratio Rural, dtype: float64"
      ]
     },
     "execution_count": 30,
     "metadata": {},
     "output_type": "execute_result"
    }
   ],
   "source": [
    "datos['Headcount Ratio Rural'].describe()"
   ]
  },
  {
   "cell_type": "code",
   "execution_count": 31,
   "metadata": {},
   "outputs": [
    {
     "data": {
      "text/plain": [
       "count    102.000000\n",
       "mean      46.824510\n",
       "std        8.783191\n",
       "min       33.300000\n",
       "25%       40.225000\n",
       "50%       44.800000\n",
       "75%       53.425000\n",
       "max       69.500000\n",
       "Name: Intensity of Deprivation Rural, dtype: float64"
      ]
     },
     "execution_count": 31,
     "metadata": {},
     "output_type": "execute_result"
    }
   ],
   "source": [
    "datos['Intensity of Deprivation Rural'].describe()"
   ]
  },
  {
   "cell_type": "code",
   "execution_count": 34,
   "metadata": {},
   "outputs": [
    {
     "data": {
      "text/plain": [
       "36.055"
      ]
     },
     "execution_count": 34,
     "metadata": {},
     "output_type": "execute_result"
    }
   ],
   "source": [
    "datos['Headcount Ratio Rural'].median()"
   ]
  }
 ],
 "metadata": {
  "kernelspec": {
   "display_name": "Python 3",
   "language": "python",
   "name": "python3"
  },
  "language_info": {
   "codemirror_mode": {
    "name": "ipython",
    "version": 3
   },
   "file_extension": ".py",
   "mimetype": "text/x-python",
   "name": "python",
   "nbconvert_exporter": "python",
   "pygments_lexer": "ipython3",
   "version": "3.8.5"
  }
 },
 "nbformat": 4,
 "nbformat_minor": 4
}
